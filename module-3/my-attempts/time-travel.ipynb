{
 "cells": [
  {
   "cell_type": "code",
   "execution_count": null,
   "metadata": {},
   "outputs": [],
   "source": [
    "%%capture --no-stderr\n",
    "%pip install --quiet -U langgraph langchain_openai langgraph_sdk langgraph-prebuilt"
   ]
  },
  {
   "cell_type": "code",
   "execution_count": 1,
   "metadata": {},
   "outputs": [],
   "source": [
    "import os, getpass\n",
    "\n",
    "def _set_env(var: str):\n",
    "    if not os.environ.get(var):\n",
    "        os.environ[var] = getpass.getpass(f\"{var}: \")\n",
    "\n",
    "_set_env(\"OPENAI_API_KEY\")"
   ]
  },
  {
   "cell_type": "code",
   "execution_count": 30,
   "metadata": {},
   "outputs": [],
   "source": [
    "from langchain_openai import ChatOpenAI\n",
    "\n",
    "def multiply(a: int, b: int) -> int:\n",
    "    \"\"\"Multiply a and b.\n",
    "\n",
    "    Args:\n",
    "        a: first int\n",
    "        b: second int\n",
    "    \"\"\"\n",
    "    return a * b\n",
    "\n",
    "# This will be a tool\n",
    "def add(a: int, b: int) -> int:\n",
    "    \"\"\"Adds a and b.\n",
    "\n",
    "    Args:\n",
    "        a: first int\n",
    "        b: second int\n",
    "    \"\"\"\n",
    "    return a + b\n",
    "\n",
    "def divide(a: int, b: int) -> float:\n",
    "    \"\"\"Divide a by b.\n",
    "\n",
    "    Args:\n",
    "        a: first int\n",
    "        b: second int\n",
    "    \"\"\"\n",
    "    return a / b\n",
    "\n",
    "tools = [add, multiply, divide]\n",
    "llm = ChatOpenAI(model=\"gpt-4o\", temperature=0)\n",
    "model = llm.bind_tools(tools)"
   ]
  },
  {
   "cell_type": "code",
   "execution_count": 31,
   "metadata": {},
   "outputs": [
    {
     "data": {
      "image/png": "[encoded data removed]",
      "text/plain": [
       "<IPython.core.display.Image object>"
      ]
     },
     "metadata": {},
     "output_type": "display_data"
    }
   ],
   "source": [
    "from IPython.display import display, Image\n",
    "\n",
    "from langgraph.checkpoint.memory import MemorySaver\n",
    "from langgraph.graph import START, END, StateGraph, MessagesState\n",
    "from langgraph.prebuilt import tools_condition, ToolNode\n",
    "\n",
    "from langchain_core.messages import HumanMessage, SystemMessage\n",
    "\n",
    "system_message = SystemMessage(content=\"You are a helpful assistant tasked with performing arithmetic on a set of inputs.\")\n",
    "\n",
    "def assistant(state: MessagesState) -> MessagesState:\n",
    "    return {\"messages\": model.invoke([system_message] + state[\"messages\"])}\n",
    "\n",
    "builder = StateGraph(MessagesState)\n",
    "\n",
    "builder.add_node(\"assistant\", assistant)\n",
    "builder.add_node(\"tools\", ToolNode(tools))\n",
    "\n",
    "builder.add_edge(START, \"assistant\")\n",
    "builder.add_conditional_edges(\"assistant\", tools_condition)\n",
    "builder.add_edge(\"tools\", \"assistant\")\n",
    "\n",
    "memory = MemorySaver()\n",
    "graph = builder.compile(checkpointer=MemorySaver())\n",
    "\n",
    "display(Image(graph.get_graph(xray=True).draw_mermaid_png()))"
   ]
  },
  {
   "cell_type": "code",
   "execution_count": null,
   "metadata": {},
   "outputs": [
    {
     "name": "stdout",
     "output_type": "stream",
     "text": [
      "================================\u001b[1m Human Message \u001b[0m=================================\n",
      "\n",
      "Multiply 2 and 3\n",
      "==================================\u001b[1m Ai Message \u001b[0m==================================\n",
      "Tool Calls:\n",
      "  multiply (call_5GL2bS7Eio8bvHjKETDd70yr)\n",
      " Call ID: call_5GL2bS7Eio8bvHjKETDd70yr\n",
      "  Args:\n",
      "    a: 2\n",
      "    b: 3\n",
      "=================================\u001b[1m Tool Message \u001b[0m=================================\n",
      "Name: multiply\n",
      "\n",
      "6\n",
      "==================================\u001b[1m Ai Message \u001b[0m==================================\n",
      "\n",
      "The result of multiplying 2 and 3 is 6.\n"
     ]
    }
   ],
   "source": [
    "# Input\n",
    "initial_input = {\"messages\": [HumanMessage(content=\"Multiply 2 and 3\")]} # HumanMessage only work why I dont know [] is not required\n",
    "\n",
    "# Thread\n",
    "thread = {\"configurable\": {\"thread_id\": \"1\"}}\n",
    "\n",
    "for event in graph.stream(initial_input, thread, stream_mode=\"values\"):\n",
    "    event['messages'][-1].pretty_print()"
   ]
  },
  {
   "cell_type": "code",
   "execution_count": 33,
   "metadata": {},
   "outputs": [
    {
     "data": {
      "text/plain": [
       "StateSnapshot(values={'messages': [HumanMessage(content='Multiply 2 and 3', additional_kwargs={}, response_metadata={}, id='5864e299-9438-4881-8e56-e895392bc5cc'), AIMessage(content='', additional_kwargs={'tool_calls': [{'id': 'call_5GL2bS7Eio8bvHjKETDd70yr', 'function': {'arguments': '{\"a\":2,\"b\":3}', 'name': 'multiply'}, 'type': 'function'}], 'refusal': None}, response_metadata={'token_usage': {'completion_tokens': 17, 'prompt_tokens': 131, 'total_tokens': 148, 'completion_tokens_details': {'accepted_prediction_tokens': 0, 'audio_tokens': 0, 'reasoning_tokens': 0, 'rejected_prediction_tokens': 0}, 'prompt_tokens_details': {'audio_tokens': 0, 'cached_tokens': 0}}, 'model_name': 'gpt-4o-2024-08-06', 'system_fingerprint': 'fp_76544d79cb', 'id': 'chatcmpl-BbU1NICV8uGXXXuzHs0MFBI1kWidK', 'service_tier': 'default', 'finish_reason': 'tool_calls', 'logprobs': None}, id='run--b28807c8-d167-4ddd-a182-5a80240dad6d-0', tool_calls=[{'name': 'multiply', 'args': {'a': 2, 'b': 3}, 'id': 'call_5GL2bS7Eio8bvHjKETDd70yr', 'type': 'tool_call'}], usage_metadata={'input_tokens': 131, 'output_tokens': 17, 'total_tokens': 148, 'input_token_details': {'audio': 0, 'cache_read': 0}, 'output_token_details': {'audio': 0, 'reasoning': 0}}), ToolMessage(content='6', name='multiply', id='84b19211-2152-4916-9375-4683e0ae492b', tool_call_id='call_5GL2bS7Eio8bvHjKETDd70yr'), AIMessage(content='The result of multiplying 2 and 3 is 6.', additional_kwargs={'refusal': None}, response_metadata={'token_usage': {'completion_tokens': 14, 'prompt_tokens': 156, 'total_tokens': 170, 'completion_tokens_details': {'accepted_prediction_tokens': 0, 'audio_tokens': 0, 'reasoning_tokens': 0, 'rejected_prediction_tokens': 0}, 'prompt_tokens_details': {'audio_tokens': 0, 'cached_tokens': 0}}, 'model_name': 'gpt-4o-2024-08-06', 'system_fingerprint': 'fp_76544d79cb', 'id': 'chatcmpl-BbU1PLrh7tg4hwGPNITHqTNqkD8uC', 'service_tier': 'default', 'finish_reason': 'stop', 'logprobs': None}, id='run--fc658c89-fe68-4e75-8fe3-3526db95c017-0', usage_metadata={'input_tokens': 156, 'output_tokens': 14, 'total_tokens': 170, 'input_token_details': {'audio': 0, 'cache_read': 0}, 'output_token_details': {'audio': 0, 'reasoning': 0}})]}, next=(), config={'configurable': {'thread_id': '1', 'checkpoint_ns': '', 'checkpoint_id': '1f03a45e-94bf-6b48-8003-879f684b5c92'}}, metadata={'source': 'loop', 'writes': {'assistant': {'messages': AIMessage(content='The result of multiplying 2 and 3 is 6.', additional_kwargs={'refusal': None}, response_metadata={'token_usage': {'completion_tokens': 14, 'prompt_tokens': 156, 'total_tokens': 170, 'completion_tokens_details': {'accepted_prediction_tokens': 0, 'audio_tokens': 0, 'reasoning_tokens': 0, 'rejected_prediction_tokens': 0}, 'prompt_tokens_details': {'audio_tokens': 0, 'cached_tokens': 0}}, 'model_name': 'gpt-4o-2024-08-06', 'system_fingerprint': 'fp_76544d79cb', 'id': 'chatcmpl-BbU1PLrh7tg4hwGPNITHqTNqkD8uC', 'service_tier': 'default', 'finish_reason': 'stop', 'logprobs': None}, id='run--fc658c89-fe68-4e75-8fe3-3526db95c017-0', usage_metadata={'input_tokens': 156, 'output_tokens': 14, 'total_tokens': 170, 'input_token_details': {'audio': 0, 'cache_read': 0}, 'output_token_details': {'audio': 0, 'reasoning': 0}})}}, 'step': 3, 'parents': {}, 'thread_id': '1'}, created_at='2025-05-26T15:27:18.971066+00:00', parent_config={'configurable': {'thread_id': '1', 'checkpoint_ns': '', 'checkpoint_id': '1f03a45e-81f9-6605-8002-5fb94ca7eef8'}}, tasks=(), interrupts=())"
      ]
     },
     "execution_count": 33,
     "metadata": {},
     "output_type": "execute_result"
    }
   ],
   "source": [
    "graph.get_state(thread)"
   ]
  },
  {
   "cell_type": "code",
   "execution_count": 34,
   "metadata": {},
   "outputs": [
    {
     "data": {
      "text/plain": [
       "[StateSnapshot(values={'messages': [HumanMessage(content='Multiply 2 and 3', additional_kwargs={}, response_metadata={}, id='5864e299-9438-4881-8e56-e895392bc5cc'), AIMessage(content='', additional_kwargs={'tool_calls': [{'id': 'call_5GL2bS7Eio8bvHjKETDd70yr', 'function': {'arguments': '{\"a\":2,\"b\":3}', 'name': 'multiply'}, 'type': 'function'}], 'refusal': None}, response_metadata={'token_usage': {'completion_tokens': 17, 'prompt_tokens': 131, 'total_tokens': 148, 'completion_tokens_details': {'accepted_prediction_tokens': 0, 'audio_tokens': 0, 'reasoning_tokens': 0, 'rejected_prediction_tokens': 0}, 'prompt_tokens_details': {'audio_tokens': 0, 'cached_tokens': 0}}, 'model_name': 'gpt-4o-2024-08-06', 'system_fingerprint': 'fp_76544d79cb', 'id': 'chatcmpl-BbU1NICV8uGXXXuzHs0MFBI1kWidK', 'service_tier': 'default', 'finish_reason': 'tool_calls', 'logprobs': None}, id='run--b28807c8-d167-4ddd-a182-5a80240dad6d-0', tool_calls=[{'name': 'multiply', 'args': {'a': 2, 'b': 3}, 'id': 'call_5GL2bS7Eio8bvHjKETDd70yr', 'type': 'tool_call'}], usage_metadata={'input_tokens': 131, 'output_tokens': 17, 'total_tokens': 148, 'input_token_details': {'audio': 0, 'cache_read': 0}, 'output_token_details': {'audio': 0, 'reasoning': 0}}), ToolMessage(content='6', name='multiply', id='84b19211-2152-4916-9375-4683e0ae492b', tool_call_id='call_5GL2bS7Eio8bvHjKETDd70yr'), AIMessage(content='The result of multiplying 2 and 3 is 6.', additional_kwargs={'refusal': None}, response_metadata={'token_usage': {'completion_tokens': 14, 'prompt_tokens': 156, 'total_tokens': 170, 'completion_tokens_details': {'accepted_prediction_tokens': 0, 'audio_tokens': 0, 'reasoning_tokens': 0, 'rejected_prediction_tokens': 0}, 'prompt_tokens_details': {'audio_tokens': 0, 'cached_tokens': 0}}, 'model_name': 'gpt-4o-2024-08-06', 'system_fingerprint': 'fp_76544d79cb', 'id': 'chatcmpl-BbU1PLrh7tg4hwGPNITHqTNqkD8uC', 'service_tier': 'default', 'finish_reason': 'stop', 'logprobs': None}, id='run--fc658c89-fe68-4e75-8fe3-3526db95c017-0', usage_metadata={'input_tokens': 156, 'output_tokens': 14, 'total_tokens': 170, 'input_token_details': {'audio': 0, 'cache_read': 0}, 'output_token_details': {'audio': 0, 'reasoning': 0}})]}, next=(), config={'configurable': {'thread_id': '1', 'checkpoint_ns': '', 'checkpoint_id': '1f03a45e-94bf-6b48-8003-879f684b5c92'}}, metadata={'source': 'loop', 'writes': {'assistant': {'messages': AIMessage(content='The result of multiplying 2 and 3 is 6.', additional_kwargs={'refusal': None}, response_metadata={'token_usage': {'completion_tokens': 14, 'prompt_tokens': 156, 'total_tokens': 170, 'completion_tokens_details': {'accepted_prediction_tokens': 0, 'audio_tokens': 0, 'reasoning_tokens': 0, 'rejected_prediction_tokens': 0}, 'prompt_tokens_details': {'audio_tokens': 0, 'cached_tokens': 0}}, 'model_name': 'gpt-4o-2024-08-06', 'system_fingerprint': 'fp_76544d79cb', 'id': 'chatcmpl-BbU1PLrh7tg4hwGPNITHqTNqkD8uC', 'service_tier': 'default', 'finish_reason': 'stop', 'logprobs': None}, id='run--fc658c89-fe68-4e75-8fe3-3526db95c017-0', usage_metadata={'input_tokens': 156, 'output_tokens': 14, 'total_tokens': 170, 'input_token_details': {'audio': 0, 'cache_read': 0}, 'output_token_details': {'audio': 0, 'reasoning': 0}})}}, 'step': 3, 'parents': {}, 'thread_id': '1'}, created_at='2025-05-26T15:27:18.971066+00:00', parent_config={'configurable': {'thread_id': '1', 'checkpoint_ns': '', 'checkpoint_id': '1f03a45e-81f9-6605-8002-5fb94ca7eef8'}}, tasks=(), interrupts=()),\n",
       " StateSnapshot(values={'messages': [HumanMessage(content='Multiply 2 and 3', additional_kwargs={}, response_metadata={}, id='5864e299-9438-4881-8e56-e895392bc5cc'), AIMessage(content='', additional_kwargs={'tool_calls': [{'id': 'call_5GL2bS7Eio8bvHjKETDd70yr', 'function': {'arguments': '{\"a\":2,\"b\":3}', 'name': 'multiply'}, 'type': 'function'}], 'refusal': None}, response_metadata={'token_usage': {'completion_tokens': 17, 'prompt_tokens': 131, 'total_tokens': 148, 'completion_tokens_details': {'accepted_prediction_tokens': 0, 'audio_tokens': 0, 'reasoning_tokens': 0, 'rejected_prediction_tokens': 0}, 'prompt_tokens_details': {'audio_tokens': 0, 'cached_tokens': 0}}, 'model_name': 'gpt-4o-2024-08-06', 'system_fingerprint': 'fp_76544d79cb', 'id': 'chatcmpl-BbU1NICV8uGXXXuzHs0MFBI1kWidK', 'service_tier': 'default', 'finish_reason': 'tool_calls', 'logprobs': None}, id='run--b28807c8-d167-4ddd-a182-5a80240dad6d-0', tool_calls=[{'name': 'multiply', 'args': {'a': 2, 'b': 3}, 'id': 'call_5GL2bS7Eio8bvHjKETDd70yr', 'type': 'tool_call'}], usage_metadata={'input_tokens': 131, 'output_tokens': 17, 'total_tokens': 148, 'input_token_details': {'audio': 0, 'cache_read': 0}, 'output_token_details': {'audio': 0, 'reasoning': 0}}), ToolMessage(content='6', name='multiply', id='84b19211-2152-4916-9375-4683e0ae492b', tool_call_id='call_5GL2bS7Eio8bvHjKETDd70yr')]}, next=('assistant',), config={'configurable': {'thread_id': '1', 'checkpoint_ns': '', 'checkpoint_id': '1f03a45e-81f9-6605-8002-5fb94ca7eef8'}}, metadata={'source': 'loop', 'writes': {'tools': {'messages': [ToolMessage(content='6', name='multiply', id='84b19211-2152-4916-9375-4683e0ae492b', tool_call_id='call_5GL2bS7Eio8bvHjKETDd70yr')]}}, 'step': 2, 'parents': {}, 'thread_id': '1'}, created_at='2025-05-26T15:27:17.002394+00:00', parent_config={'configurable': {'thread_id': '1', 'checkpoint_ns': '', 'checkpoint_id': '1f03a45e-81f1-6631-8001-faf571924712'}}, tasks=(PregelTask(id='46f5588f-efed-9fa4-9092-16b67cb09f60', name='assistant', path=('__pregel_pull', 'assistant'), error=None, interrupts=(), state=None, result={'messages': AIMessage(content='The result of multiplying 2 and 3 is 6.', additional_kwargs={'refusal': None}, response_metadata={'token_usage': {'completion_tokens': 14, 'prompt_tokens': 156, 'total_tokens': 170, 'completion_tokens_details': {'accepted_prediction_tokens': 0, 'audio_tokens': 0, 'reasoning_tokens': 0, 'rejected_prediction_tokens': 0}, 'prompt_tokens_details': {'audio_tokens': 0, 'cached_tokens': 0}}, 'model_name': 'gpt-4o-2024-08-06', 'system_fingerprint': 'fp_76544d79cb', 'id': 'chatcmpl-BbU1PLrh7tg4hwGPNITHqTNqkD8uC', 'service_tier': 'default', 'finish_reason': 'stop', 'logprobs': None}, id='run--fc658c89-fe68-4e75-8fe3-3526db95c017-0', usage_metadata={'input_tokens': 156, 'output_tokens': 14, 'total_tokens': 170, 'input_token_details': {'audio': 0, 'cache_read': 0}, 'output_token_details': {'audio': 0, 'reasoning': 0}})}),), interrupts=()),\n",
       " StateSnapshot(values={'messages': [HumanMessage(content='Multiply 2 and 3', additional_kwargs={}, response_metadata={}, id='5864e299-9438-4881-8e56-e895392bc5cc'), AIMessage(content='', additional_kwargs={'tool_calls': [{'id': 'call_5GL2bS7Eio8bvHjKETDd70yr', 'function': {'arguments': '{\"a\":2,\"b\":3}', 'name': 'multiply'}, 'type': 'function'}], 'refusal': None}, response_metadata={'token_usage': {'completion_tokens': 17, 'prompt_tokens': 131, 'total_tokens': 148, 'completion_tokens_details': {'accepted_prediction_tokens': 0, 'audio_tokens': 0, 'reasoning_tokens': 0, 'rejected_prediction_tokens': 0}, 'prompt_tokens_details': {'audio_tokens': 0, 'cached_tokens': 0}}, 'model_name': 'gpt-4o-2024-08-06', 'system_fingerprint': 'fp_76544d79cb', 'id': 'chatcmpl-BbU1NICV8uGXXXuzHs0MFBI1kWidK', 'service_tier': 'default', 'finish_reason': 'tool_calls', 'logprobs': None}, id='run--b28807c8-d167-4ddd-a182-5a80240dad6d-0', tool_calls=[{'name': 'multiply', 'args': {'a': 2, 'b': 3}, 'id': 'call_5GL2bS7Eio8bvHjKETDd70yr', 'type': 'tool_call'}], usage_metadata={'input_tokens': 131, 'output_tokens': 17, 'total_tokens': 148, 'input_token_details': {'audio': 0, 'cache_read': 0}, 'output_token_details': {'audio': 0, 'reasoning': 0}})]}, next=('tools',), config={'configurable': {'thread_id': '1', 'checkpoint_ns': '', 'checkpoint_id': '1f03a45e-81f1-6631-8001-faf571924712'}}, metadata={'source': 'loop', 'writes': {'assistant': {'messages': AIMessage(content='', additional_kwargs={'tool_calls': [{'id': 'call_5GL2bS7Eio8bvHjKETDd70yr', 'function': {'arguments': '{\"a\":2,\"b\":3}', 'name': 'multiply'}, 'type': 'function'}], 'refusal': None}, response_metadata={'token_usage': {'completion_tokens': 17, 'prompt_tokens': 131, 'total_tokens': 148, 'completion_tokens_details': {'accepted_prediction_tokens': 0, 'audio_tokens': 0, 'reasoning_tokens': 0, 'rejected_prediction_tokens': 0}, 'prompt_tokens_details': {'audio_tokens': 0, 'cached_tokens': 0}}, 'model_name': 'gpt-4o-2024-08-06', 'system_fingerprint': 'fp_76544d79cb', 'id': 'chatcmpl-BbU1NICV8uGXXXuzHs0MFBI1kWidK', 'service_tier': 'default', 'finish_reason': 'tool_calls', 'logprobs': None}, id='run--b28807c8-d167-4ddd-a182-5a80240dad6d-0', tool_calls=[{'name': 'multiply', 'args': {'a': 2, 'b': 3}, 'id': 'call_5GL2bS7Eio8bvHjKETDd70yr', 'type': 'tool_call'}], usage_metadata={'input_tokens': 131, 'output_tokens': 17, 'total_tokens': 148, 'input_token_details': {'audio': 0, 'cache_read': 0}, 'output_token_details': {'audio': 0, 'reasoning': 0}})}}, 'step': 1, 'parents': {}, 'thread_id': '1'}, created_at='2025-05-26T15:27:16.999121+00:00', parent_config={'configurable': {'thread_id': '1', 'checkpoint_ns': '', 'checkpoint_id': '1f03a45e-6302-6a10-8000-345b8a7dcca7'}}, tasks=(PregelTask(id='77865beb-50a6-b2b6-3b5b-2a8af43084ce', name='tools', path=('__pregel_pull', 'tools'), error=None, interrupts=(), state=None, result={'messages': [ToolMessage(content='6', name='multiply', id='84b19211-2152-4916-9375-4683e0ae492b', tool_call_id='call_5GL2bS7Eio8bvHjKETDd70yr')]}),), interrupts=()),\n",
       " StateSnapshot(values={'messages': [HumanMessage(content='Multiply 2 and 3', additional_kwargs={}, response_metadata={}, id='5864e299-9438-4881-8e56-e895392bc5cc')]}, next=('assistant',), config={'configurable': {'thread_id': '1', 'checkpoint_ns': '', 'checkpoint_id': '1f03a45e-6302-6a10-8000-345b8a7dcca7'}}, metadata={'source': 'loop', 'writes': None, 'step': 0, 'parents': {}, 'thread_id': '1'}, created_at='2025-05-26T15:27:13.755598+00:00', parent_config={'configurable': {'thread_id': '1', 'checkpoint_ns': '', 'checkpoint_id': '1f03a45e-62fb-63d6-bfff-10ddbe2e3e77'}}, tasks=(PregelTask(id='154d2a78-804a-e0bd-313d-090a3e4ba4b8', name='assistant', path=('__pregel_pull', 'assistant'), error=None, interrupts=(), state=None, result={'messages': AIMessage(content='', additional_kwargs={'tool_calls': [{'id': 'call_5GL2bS7Eio8bvHjKETDd70yr', 'function': {'arguments': '{\"a\":2,\"b\":3}', 'name': 'multiply'}, 'type': 'function'}], 'refusal': None}, response_metadata={'token_usage': {'completion_tokens': 17, 'prompt_tokens': 131, 'total_tokens': 148, 'completion_tokens_details': {'accepted_prediction_tokens': 0, 'audio_tokens': 0, 'reasoning_tokens': 0, 'rejected_prediction_tokens': 0}, 'prompt_tokens_details': {'audio_tokens': 0, 'cached_tokens': 0}}, 'model_name': 'gpt-4o-2024-08-06', 'system_fingerprint': 'fp_76544d79cb', 'id': 'chatcmpl-BbU1NICV8uGXXXuzHs0MFBI1kWidK', 'service_tier': 'default', 'finish_reason': 'tool_calls', 'logprobs': None}, id='run--b28807c8-d167-4ddd-a182-5a80240dad6d-0', tool_calls=[{'name': 'multiply', 'args': {'a': 2, 'b': 3}, 'id': 'call_5GL2bS7Eio8bvHjKETDd70yr', 'type': 'tool_call'}], usage_metadata={'input_tokens': 131, 'output_tokens': 17, 'total_tokens': 148, 'input_token_details': {'audio': 0, 'cache_read': 0}, 'output_token_details': {'audio': 0, 'reasoning': 0}})}),), interrupts=()),\n",
       " StateSnapshot(values={'messages': []}, next=('__start__',), config={'configurable': {'thread_id': '1', 'checkpoint_ns': '', 'checkpoint_id': '1f03a45e-62fb-63d6-bfff-10ddbe2e3e77'}}, metadata={'source': 'input', 'writes': {'__start__': {'messages': HumanMessage(content='Multiply 2 and 3', additional_kwargs={}, response_metadata={})}}, 'step': -1, 'parents': {}, 'thread_id': '1'}, created_at='2025-05-26T15:27:13.752571+00:00', parent_config=None, tasks=(PregelTask(id='cc10f2fb-91b1-276b-9781-a18478700ef1', name='__start__', path=('__pregel_pull', '__start__'), error=None, interrupts=(), state=None, result={'messages': HumanMessage(content='Multiply 2 and 3', additional_kwargs={}, response_metadata={}, id='5864e299-9438-4881-8e56-e895392bc5cc')}),), interrupts=())]"
      ]
     },
     "execution_count": 34,
     "metadata": {},
     "output_type": "execute_result"
    }
   ],
   "source": [
    "all_states = [s for s in graph.get_state_history(thread)]\n",
    "all_states"
   ]
  },
  {
   "cell_type": "code",
   "execution_count": 35,
   "metadata": {},
   "outputs": [
    {
     "data": {
      "text/plain": [
       "5"
      ]
     },
     "execution_count": 35,
     "metadata": {},
     "output_type": "execute_result"
    }
   ],
   "source": [
    "len(all_states)"
   ]
  },
  {
   "cell_type": "code",
   "execution_count": 36,
   "metadata": {},
   "outputs": [
    {
     "data": {
      "text/plain": [
       "StateSnapshot(values={'messages': [HumanMessage(content='Multiply 2 and 3', additional_kwargs={}, response_metadata={}, id='5864e299-9438-4881-8e56-e895392bc5cc')]}, next=('assistant',), config={'configurable': {'thread_id': '1', 'checkpoint_ns': '', 'checkpoint_id': '1f03a45e-6302-6a10-8000-345b8a7dcca7'}}, metadata={'source': 'loop', 'writes': None, 'step': 0, 'parents': {}, 'thread_id': '1'}, created_at='2025-05-26T15:27:13.755598+00:00', parent_config={'configurable': {'thread_id': '1', 'checkpoint_ns': '', 'checkpoint_id': '1f03a45e-62fb-63d6-bfff-10ddbe2e3e77'}}, tasks=(PregelTask(id='154d2a78-804a-e0bd-313d-090a3e4ba4b8', name='assistant', path=('__pregel_pull', 'assistant'), error=None, interrupts=(), state=None, result={'messages': AIMessage(content='', additional_kwargs={'tool_calls': [{'id': 'call_5GL2bS7Eio8bvHjKETDd70yr', 'function': {'arguments': '{\"a\":2,\"b\":3}', 'name': 'multiply'}, 'type': 'function'}], 'refusal': None}, response_metadata={'token_usage': {'completion_tokens': 17, 'prompt_tokens': 131, 'total_tokens': 148, 'completion_tokens_details': {'accepted_prediction_tokens': 0, 'audio_tokens': 0, 'reasoning_tokens': 0, 'rejected_prediction_tokens': 0}, 'prompt_tokens_details': {'audio_tokens': 0, 'cached_tokens': 0}}, 'model_name': 'gpt-4o-2024-08-06', 'system_fingerprint': 'fp_76544d79cb', 'id': 'chatcmpl-BbU1NICV8uGXXXuzHs0MFBI1kWidK', 'service_tier': 'default', 'finish_reason': 'tool_calls', 'logprobs': None}, id='run--b28807c8-d167-4ddd-a182-5a80240dad6d-0', tool_calls=[{'name': 'multiply', 'args': {'a': 2, 'b': 3}, 'id': 'call_5GL2bS7Eio8bvHjKETDd70yr', 'type': 'tool_call'}], usage_metadata={'input_tokens': 131, 'output_tokens': 17, 'total_tokens': 148, 'input_token_details': {'audio': 0, 'cache_read': 0}, 'output_token_details': {'audio': 0, 'reasoning': 0}})}),), interrupts=())"
      ]
     },
     "execution_count": 36,
     "metadata": {},
     "output_type": "execute_result"
    }
   ],
   "source": [
    "all_states[-2]"
   ]
  },
  {
   "cell_type": "code",
   "execution_count": 37,
   "metadata": {},
   "outputs": [],
   "source": [
    "to_replay = all_states[-2]"
   ]
  },
  {
   "cell_type": "code",
   "execution_count": 38,
   "metadata": {},
   "outputs": [
    {
     "data": {
      "text/plain": [
       "StateSnapshot(values={'messages': [HumanMessage(content='Multiply 2 and 3', additional_kwargs={}, response_metadata={}, id='5864e299-9438-4881-8e56-e895392bc5cc')]}, next=('assistant',), config={'configurable': {'thread_id': '1', 'checkpoint_ns': '', 'checkpoint_id': '1f03a45e-6302-6a10-8000-345b8a7dcca7'}}, metadata={'source': 'loop', 'writes': None, 'step': 0, 'parents': {}, 'thread_id': '1'}, created_at='2025-05-26T15:27:13.755598+00:00', parent_config={'configurable': {'thread_id': '1', 'checkpoint_ns': '', 'checkpoint_id': '1f03a45e-62fb-63d6-bfff-10ddbe2e3e77'}}, tasks=(PregelTask(id='154d2a78-804a-e0bd-313d-090a3e4ba4b8', name='assistant', path=('__pregel_pull', 'assistant'), error=None, interrupts=(), state=None, result={'messages': AIMessage(content='', additional_kwargs={'tool_calls': [{'id': 'call_5GL2bS7Eio8bvHjKETDd70yr', 'function': {'arguments': '{\"a\":2,\"b\":3}', 'name': 'multiply'}, 'type': 'function'}], 'refusal': None}, response_metadata={'token_usage': {'completion_tokens': 17, 'prompt_tokens': 131, 'total_tokens': 148, 'completion_tokens_details': {'accepted_prediction_tokens': 0, 'audio_tokens': 0, 'reasoning_tokens': 0, 'rejected_prediction_tokens': 0}, 'prompt_tokens_details': {'audio_tokens': 0, 'cached_tokens': 0}}, 'model_name': 'gpt-4o-2024-08-06', 'system_fingerprint': 'fp_76544d79cb', 'id': 'chatcmpl-BbU1NICV8uGXXXuzHs0MFBI1kWidK', 'service_tier': 'default', 'finish_reason': 'tool_calls', 'logprobs': None}, id='run--b28807c8-d167-4ddd-a182-5a80240dad6d-0', tool_calls=[{'name': 'multiply', 'args': {'a': 2, 'b': 3}, 'id': 'call_5GL2bS7Eio8bvHjKETDd70yr', 'type': 'tool_call'}], usage_metadata={'input_tokens': 131, 'output_tokens': 17, 'total_tokens': 148, 'input_token_details': {'audio': 0, 'cache_read': 0}, 'output_token_details': {'audio': 0, 'reasoning': 0}})}),), interrupts=())"
      ]
     },
     "execution_count": 38,
     "metadata": {},
     "output_type": "execute_result"
    }
   ],
   "source": [
    "to_replay"
   ]
  },
  {
   "cell_type": "code",
   "execution_count": 39,
   "metadata": {},
   "outputs": [
    {
     "data": {
      "text/plain": [
       "{'messages': [HumanMessage(content='Multiply 2 and 3', additional_kwargs={}, response_metadata={}, id='5864e299-9438-4881-8e56-e895392bc5cc')]}"
      ]
     },
     "execution_count": 39,
     "metadata": {},
     "output_type": "execute_result"
    }
   ],
   "source": [
    "to_replay.values"
   ]
  },
  {
   "cell_type": "code",
   "execution_count": 40,
   "metadata": {},
   "outputs": [
    {
     "data": {
      "text/plain": [
       "('assistant',)"
      ]
     },
     "execution_count": 40,
     "metadata": {},
     "output_type": "execute_result"
    }
   ],
   "source": [
    "to_replay.next"
   ]
  },
  {
   "cell_type": "code",
   "execution_count": 41,
   "metadata": {},
   "outputs": [
    {
     "data": {
      "text/plain": [
       "{'configurable': {'thread_id': '1',\n",
       "  'checkpoint_ns': '',\n",
       "  'checkpoint_id': '1f03a45e-6302-6a10-8000-345b8a7dcca7'}}"
      ]
     },
     "execution_count": 41,
     "metadata": {},
     "output_type": "execute_result"
    }
   ],
   "source": [
    "to_replay.config"
   ]
  },
  {
   "cell_type": "code",
   "execution_count": 43,
   "metadata": {},
   "outputs": [
    {
     "name": "stdout",
     "output_type": "stream",
     "text": [
      "================================\u001b[1m Human Message \u001b[0m=================================\n",
      "\n",
      "Multiply 2 and 3\n",
      "==================================\u001b[1m Ai Message \u001b[0m==================================\n",
      "Tool Calls:\n",
      "  multiply (call_9JABIsxHpALGGtqX4Puh45Z0)\n",
      " Call ID: call_9JABIsxHpALGGtqX4Puh45Z0\n",
      "  Args:\n",
      "    a: 2\n",
      "    b: 3\n",
      "=================================\u001b[1m Tool Message \u001b[0m=================================\n",
      "Name: multiply\n",
      "\n",
      "6\n",
      "==================================\u001b[1m Ai Message \u001b[0m==================================\n",
      "\n",
      "The result of multiplying 2 and 3 is 6.\n"
     ]
    }
   ],
   "source": [
    "for event in graph.stream(None, to_replay.config, stream_mode=\"values\"):\n",
    "    event[\"messages\"][-1].pretty_print()"
   ]
  },
  {
   "cell_type": "code",
   "execution_count": 44,
   "metadata": {},
   "outputs": [
    {
     "data": {
      "text/plain": [
       "[HumanMessage(content='Multiply 2 and 3', additional_kwargs={}, response_metadata={}, id='5864e299-9438-4881-8e56-e895392bc5cc')]"
      ]
     },
     "execution_count": 44,
     "metadata": {},
     "output_type": "execute_result"
    }
   ],
   "source": [
    "to_fork = all_states[-2]\n",
    "to_fork.values[\"messages\"]"
   ]
  },
  {
   "cell_type": "code",
   "execution_count": 45,
   "metadata": {},
   "outputs": [
    {
     "data": {
      "text/plain": [
       "{'configurable': {'thread_id': '1',\n",
       "  'checkpoint_ns': '',\n",
       "  'checkpoint_id': '1f03a45e-6302-6a10-8000-345b8a7dcca7'}}"
      ]
     },
     "execution_count": 45,
     "metadata": {},
     "output_type": "execute_result"
    }
   ],
   "source": [
    "to_fork.config"
   ]
  },
  {
   "cell_type": "code",
   "execution_count": 46,
   "metadata": {},
   "outputs": [],
   "source": [
    "fork_config = graph.update_state(to_fork.config, {\"messages\": [HumanMessage(content=\"Multiply 3 and 4\", id=to_fork.values[\"messages\"][0].id)]})"
   ]
  },
  {
   "cell_type": "code",
   "execution_count": 47,
   "metadata": {},
   "outputs": [
    {
     "data": {
      "text/plain": [
       "{'configurable': {'thread_id': '1',\n",
       "  'checkpoint_ns': '',\n",
       "  'checkpoint_id': '1f03a48a-7078-6318-8001-42ecd4de5067'}}"
      ]
     },
     "execution_count": 47,
     "metadata": {},
     "output_type": "execute_result"
    }
   ],
   "source": [
    "fork_config"
   ]
  },
  {
   "cell_type": "code",
   "execution_count": 53,
   "metadata": {},
   "outputs": [
    {
     "data": {
      "text/plain": [
       "[StateSnapshot(values={'messages': [HumanMessage(content='Multiply 3 and 4', additional_kwargs={}, response_metadata={}, id='5864e299-9438-4881-8e56-e895392bc5cc')]}, next=('assistant',), config={'configurable': {'thread_id': '1', 'checkpoint_ns': '', 'checkpoint_id': '1f03a48a-7078-6318-8001-42ecd4de5067'}}, metadata={'source': 'update', 'writes': {'__start__': {'messages': [HumanMessage(content='Multiply 3 and 4', additional_kwargs={}, response_metadata={}, id='5864e299-9438-4881-8e56-e895392bc5cc')]}}, 'step': 1, 'parents': {}, 'thread_id': '1', 'checkpoint_ns': '', 'checkpoint_id': '1f03a45e-6302-6a10-8000-345b8a7dcca7'}, created_at='2025-05-26T15:46:56.282908+00:00', parent_config={'configurable': {'thread_id': '1', 'checkpoint_ns': '', 'checkpoint_id': '1f03a45e-6302-6a10-8000-345b8a7dcca7'}}, tasks=(PregelTask(id='e3d359a3-aa34-cfd6-b863-cbc29214a185', name='assistant', path=('__pregel_pull', 'assistant'), error=None, interrupts=(), state=None, result=None),), interrupts=()),\n",
       " StateSnapshot(values={'messages': [HumanMessage(content='Multiply 2 and 3', additional_kwargs={}, response_metadata={}, id='5864e299-9438-4881-8e56-e895392bc5cc'), AIMessage(content='', additional_kwargs={'tool_calls': [{'id': 'call_9JABIsxHpALGGtqX4Puh45Z0', 'function': {'arguments': '{\"a\":2,\"b\":3}', 'name': 'multiply'}, 'type': 'function'}], 'refusal': None}, response_metadata={'token_usage': {'completion_tokens': 17, 'prompt_tokens': 131, 'total_tokens': 148, 'completion_tokens_details': {'accepted_prediction_tokens': 0, 'audio_tokens': 0, 'reasoning_tokens': 0, 'rejected_prediction_tokens': 0}, 'prompt_tokens_details': {'audio_tokens': 0, 'cached_tokens': 0}}, 'model_name': 'gpt-4o-2024-08-06', 'system_fingerprint': 'fp_76544d79cb', 'id': 'chatcmpl-BbU6RvfQX0SymDmgsVXA8a17pdiK3', 'service_tier': 'default', 'finish_reason': 'tool_calls', 'logprobs': None}, id='run--7a1b43a7-4a64-4118-ac18-0eeed6ef7630-0', tool_calls=[{'name': 'multiply', 'args': {'a': 2, 'b': 3}, 'id': 'call_9JABIsxHpALGGtqX4Puh45Z0', 'type': 'tool_call'}], usage_metadata={'input_tokens': 131, 'output_tokens': 17, 'total_tokens': 148, 'input_token_details': {'audio': 0, 'cache_read': 0}, 'output_token_details': {'audio': 0, 'reasoning': 0}}), ToolMessage(content='6', name='multiply', id='0eb75be1-2fef-4059-ab04-673cdecd6539', tool_call_id='call_9JABIsxHpALGGtqX4Puh45Z0'), AIMessage(content='The result of multiplying 2 and 3 is 6.', additional_kwargs={'refusal': None}, response_metadata={'token_usage': {'completion_tokens': 14, 'prompt_tokens': 156, 'total_tokens': 170, 'completion_tokens_details': {'accepted_prediction_tokens': 0, 'audio_tokens': 0, 'reasoning_tokens': 0, 'rejected_prediction_tokens': 0}, 'prompt_tokens_details': {'audio_tokens': 0, 'cached_tokens': 0}}, 'model_name': 'gpt-4o-2024-08-06', 'system_fingerprint': 'fp_76544d79cb', 'id': 'chatcmpl-BbU6TandcHuOVGImpRdlwXbIN2pZF', 'service_tier': 'default', 'finish_reason': 'stop', 'logprobs': None}, id='run--b150ada3-bcdb-4260-9c77-9b21d8ba424b-0', usage_metadata={'input_tokens': 156, 'output_tokens': 14, 'total_tokens': 170, 'input_token_details': {'audio': 0, 'cache_read': 0}, 'output_token_details': {'audio': 0, 'reasoning': 0}})]}, next=(), config={'configurable': {'thread_id': '1', 'checkpoint_ns': '', 'checkpoint_id': '1f03a46a-4551-6617-8003-7a20f6da9722'}}, metadata={'source': 'loop', 'writes': {'assistant': {'messages': AIMessage(content='The result of multiplying 2 and 3 is 6.', additional_kwargs={'refusal': None}, response_metadata={'token_usage': {'completion_tokens': 14, 'prompt_tokens': 156, 'total_tokens': 170, 'completion_tokens_details': {'accepted_prediction_tokens': 0, 'audio_tokens': 0, 'reasoning_tokens': 0, 'rejected_prediction_tokens': 0}, 'prompt_tokens_details': {'audio_tokens': 0, 'cached_tokens': 0}}, 'model_name': 'gpt-4o-2024-08-06', 'system_fingerprint': 'fp_76544d79cb', 'id': 'chatcmpl-BbU6TandcHuOVGImpRdlwXbIN2pZF', 'service_tier': 'default', 'finish_reason': 'stop', 'logprobs': None}, id='run--b150ada3-bcdb-4260-9c77-9b21d8ba424b-0', usage_metadata={'input_tokens': 156, 'output_tokens': 14, 'total_tokens': 170, 'input_token_details': {'audio': 0, 'cache_read': 0}, 'output_token_details': {'audio': 0, 'reasoning': 0}})}}, 'step': 3, 'parents': {}, 'thread_id': '1'}, created_at='2025-05-26T15:32:32.764674+00:00', parent_config={'configurable': {'thread_id': '1', 'checkpoint_ns': '', 'checkpoint_id': '1f03a46a-37a9-6e62-8002-6e204dfa991d'}}, tasks=(), interrupts=()),\n",
       " StateSnapshot(values={'messages': [HumanMessage(content='Multiply 2 and 3', additional_kwargs={}, response_metadata={}, id='5864e299-9438-4881-8e56-e895392bc5cc'), AIMessage(content='', additional_kwargs={'tool_calls': [{'id': 'call_9JABIsxHpALGGtqX4Puh45Z0', 'function': {'arguments': '{\"a\":2,\"b\":3}', 'name': 'multiply'}, 'type': 'function'}], 'refusal': None}, response_metadata={'token_usage': {'completion_tokens': 17, 'prompt_tokens': 131, 'total_tokens': 148, 'completion_tokens_details': {'accepted_prediction_tokens': 0, 'audio_tokens': 0, 'reasoning_tokens': 0, 'rejected_prediction_tokens': 0}, 'prompt_tokens_details': {'audio_tokens': 0, 'cached_tokens': 0}}, 'model_name': 'gpt-4o-2024-08-06', 'system_fingerprint': 'fp_76544d79cb', 'id': 'chatcmpl-BbU6RvfQX0SymDmgsVXA8a17pdiK3', 'service_tier': 'default', 'finish_reason': 'tool_calls', 'logprobs': None}, id='run--7a1b43a7-4a64-4118-ac18-0eeed6ef7630-0', tool_calls=[{'name': 'multiply', 'args': {'a': 2, 'b': 3}, 'id': 'call_9JABIsxHpALGGtqX4Puh45Z0', 'type': 'tool_call'}], usage_metadata={'input_tokens': 131, 'output_tokens': 17, 'total_tokens': 148, 'input_token_details': {'audio': 0, 'cache_read': 0}, 'output_token_details': {'audio': 0, 'reasoning': 0}}), ToolMessage(content='6', name='multiply', id='0eb75be1-2fef-4059-ab04-673cdecd6539', tool_call_id='call_9JABIsxHpALGGtqX4Puh45Z0')]}, next=('assistant',), config={'configurable': {'thread_id': '1', 'checkpoint_ns': '', 'checkpoint_id': '1f03a46a-37a9-6e62-8002-6e204dfa991d'}}, metadata={'source': 'loop', 'writes': {'tools': {'messages': [ToolMessage(content='6', name='multiply', id='0eb75be1-2fef-4059-ab04-673cdecd6539', tool_call_id='call_9JABIsxHpALGGtqX4Puh45Z0')]}}, 'step': 2, 'parents': {}, 'thread_id': '1'}, created_at='2025-05-26T15:32:31.332925+00:00', parent_config={'configurable': {'thread_id': '1', 'checkpoint_ns': '', 'checkpoint_id': '1f03a46a-37a0-60b6-8001-b7de3b39c8e1'}}, tasks=(PregelTask(id='2d37610b-d018-272a-ef62-397af8755385', name='assistant', path=('__pregel_pull', 'assistant'), error=None, interrupts=(), state=None, result={'messages': AIMessage(content='The result of multiplying 2 and 3 is 6.', additional_kwargs={'refusal': None}, response_metadata={'token_usage': {'completion_tokens': 14, 'prompt_tokens': 156, 'total_tokens': 170, 'completion_tokens_details': {'accepted_prediction_tokens': 0, 'audio_tokens': 0, 'reasoning_tokens': 0, 'rejected_prediction_tokens': 0}, 'prompt_tokens_details': {'audio_tokens': 0, 'cached_tokens': 0}}, 'model_name': 'gpt-4o-2024-08-06', 'system_fingerprint': 'fp_76544d79cb', 'id': 'chatcmpl-BbU6TandcHuOVGImpRdlwXbIN2pZF', 'service_tier': 'default', 'finish_reason': 'stop', 'logprobs': None}, id='run--b150ada3-bcdb-4260-9c77-9b21d8ba424b-0', usage_metadata={'input_tokens': 156, 'output_tokens': 14, 'total_tokens': 170, 'input_token_details': {'audio': 0, 'cache_read': 0}, 'output_token_details': {'audio': 0, 'reasoning': 0}})}),), interrupts=()),\n",
       " StateSnapshot(values={'messages': [HumanMessage(content='Multiply 2 and 3', additional_kwargs={}, response_metadata={}, id='5864e299-9438-4881-8e56-e895392bc5cc'), AIMessage(content='', additional_kwargs={'tool_calls': [{'id': 'call_9JABIsxHpALGGtqX4Puh45Z0', 'function': {'arguments': '{\"a\":2,\"b\":3}', 'name': 'multiply'}, 'type': 'function'}], 'refusal': None}, response_metadata={'token_usage': {'completion_tokens': 17, 'prompt_tokens': 131, 'total_tokens': 148, 'completion_tokens_details': {'accepted_prediction_tokens': 0, 'audio_tokens': 0, 'reasoning_tokens': 0, 'rejected_prediction_tokens': 0}, 'prompt_tokens_details': {'audio_tokens': 0, 'cached_tokens': 0}}, 'model_name': 'gpt-4o-2024-08-06', 'system_fingerprint': 'fp_76544d79cb', 'id': 'chatcmpl-BbU6RvfQX0SymDmgsVXA8a17pdiK3', 'service_tier': 'default', 'finish_reason': 'tool_calls', 'logprobs': None}, id='run--7a1b43a7-4a64-4118-ac18-0eeed6ef7630-0', tool_calls=[{'name': 'multiply', 'args': {'a': 2, 'b': 3}, 'id': 'call_9JABIsxHpALGGtqX4Puh45Z0', 'type': 'tool_call'}], usage_metadata={'input_tokens': 131, 'output_tokens': 17, 'total_tokens': 148, 'input_token_details': {'audio': 0, 'cache_read': 0}, 'output_token_details': {'audio': 0, 'reasoning': 0}})]}, next=('tools',), config={'configurable': {'thread_id': '1', 'checkpoint_ns': '', 'checkpoint_id': '1f03a46a-37a0-60b6-8001-b7de3b39c8e1'}}, metadata={'source': 'loop', 'writes': {'assistant': {'messages': AIMessage(content='', additional_kwargs={'tool_calls': [{'id': 'call_9JABIsxHpALGGtqX4Puh45Z0', 'function': {'arguments': '{\"a\":2,\"b\":3}', 'name': 'multiply'}, 'type': 'function'}], 'refusal': None}, response_metadata={'token_usage': {'completion_tokens': 17, 'prompt_tokens': 131, 'total_tokens': 148, 'completion_tokens_details': {'accepted_prediction_tokens': 0, 'audio_tokens': 0, 'reasoning_tokens': 0, 'rejected_prediction_tokens': 0}, 'prompt_tokens_details': {'audio_tokens': 0, 'cached_tokens': 0}}, 'model_name': 'gpt-4o-2024-08-06', 'system_fingerprint': 'fp_76544d79cb', 'id': 'chatcmpl-BbU6RvfQX0SymDmgsVXA8a17pdiK3', 'service_tier': 'default', 'finish_reason': 'tool_calls', 'logprobs': None}, id='run--7a1b43a7-4a64-4118-ac18-0eeed6ef7630-0', tool_calls=[{'name': 'multiply', 'args': {'a': 2, 'b': 3}, 'id': 'call_9JABIsxHpALGGtqX4Puh45Z0', 'type': 'tool_call'}], usage_metadata={'input_tokens': 131, 'output_tokens': 17, 'total_tokens': 148, 'input_token_details': {'audio': 0, 'cache_read': 0}, 'output_token_details': {'audio': 0, 'reasoning': 0}})}}, 'step': 1, 'parents': {}, 'thread_id': '1'}, created_at='2025-05-26T15:32:31.328888+00:00', parent_config={'configurable': {'thread_id': '1', 'checkpoint_ns': '', 'checkpoint_id': '1f03a45e-6302-6a10-8000-345b8a7dcca7'}}, tasks=(PregelTask(id='6befd64f-41b3-284a-3f11-9aa02f4be707', name='tools', path=('__pregel_pull', 'tools'), error=None, interrupts=(), state=None, result={'messages': [ToolMessage(content='6', name='multiply', id='0eb75be1-2fef-4059-ab04-673cdecd6539', tool_call_id='call_9JABIsxHpALGGtqX4Puh45Z0')]}),), interrupts=()),\n",
       " StateSnapshot(values={'messages': [HumanMessage(content='Multiply 2 and 3', additional_kwargs={}, response_metadata={}, id='5864e299-9438-4881-8e56-e895392bc5cc'), AIMessage(content='', additional_kwargs={'tool_calls': [{'id': 'call_QOetLnjEhsFs7lmSMFQDGc7M', 'function': {'arguments': '{\"a\":2,\"b\":3}', 'name': 'multiply'}, 'type': 'function'}], 'refusal': None}, response_metadata={'token_usage': {'completion_tokens': 17, 'prompt_tokens': 131, 'total_tokens': 148, 'completion_tokens_details': {'accepted_prediction_tokens': 0, 'audio_tokens': 0, 'reasoning_tokens': 0, 'rejected_prediction_tokens': 0}, 'prompt_tokens_details': {'audio_tokens': 0, 'cached_tokens': 0}}, 'model_name': 'gpt-4o-2024-08-06', 'system_fingerprint': 'fp_76544d79cb', 'id': 'chatcmpl-BbU1b2evWb7SK1WVVVS9d1oou2gNB', 'service_tier': 'default', 'finish_reason': 'tool_calls', 'logprobs': None}, id='run--b839461a-705e-44d2-8fb4-c4b036d25da6-0', tool_calls=[{'name': 'multiply', 'args': {'a': 2, 'b': 3}, 'id': 'call_QOetLnjEhsFs7lmSMFQDGc7M', 'type': 'tool_call'}], usage_metadata={'input_tokens': 131, 'output_tokens': 17, 'total_tokens': 148, 'input_token_details': {'audio': 0, 'cache_read': 0}, 'output_token_details': {'audio': 0, 'reasoning': 0}}), ToolMessage(content='6', name='multiply', id='5be6c931-fc5b-4c56-a4a0-1ff5e94ca876', tool_call_id='call_QOetLnjEhsFs7lmSMFQDGc7M'), AIMessage(content='The result of multiplying 2 and 3 is 6.', additional_kwargs={'refusal': None}, response_metadata={'token_usage': {'completion_tokens': 14, 'prompt_tokens': 156, 'total_tokens': 170, 'completion_tokens_details': {'accepted_prediction_tokens': 0, 'audio_tokens': 0, 'reasoning_tokens': 0, 'rejected_prediction_tokens': 0}, 'prompt_tokens_details': {'audio_tokens': 0, 'cached_tokens': 0}}, 'model_name': 'gpt-4o-2024-08-06', 'system_fingerprint': 'fp_76544d79cb', 'id': 'chatcmpl-BbU1cDNJQLMCpxvMWGl6R1T1GuwU1', 'service_tier': 'default', 'finish_reason': 'stop', 'logprobs': None}, id='run--b7456124-2029-4160-940f-03472a4c663f-0', usage_metadata={'input_tokens': 156, 'output_tokens': 14, 'total_tokens': 170, 'input_token_details': {'audio': 0, 'cache_read': 0}, 'output_token_details': {'audio': 0, 'reasoning': 0}})]}, next=(), config={'configurable': {'thread_id': '1', 'checkpoint_ns': '', 'checkpoint_id': '1f03a45f-15fd-6d46-8003-f49b515d5f9f'}}, metadata={'source': 'loop', 'writes': {'assistant': {'messages': AIMessage(content='The result of multiplying 2 and 3 is 6.', additional_kwargs={'refusal': None}, response_metadata={'token_usage': {'completion_tokens': 14, 'prompt_tokens': 156, 'total_tokens': 170, 'completion_tokens_details': {'accepted_prediction_tokens': 0, 'audio_tokens': 0, 'reasoning_tokens': 0, 'rejected_prediction_tokens': 0}, 'prompt_tokens_details': {'audio_tokens': 0, 'cached_tokens': 0}}, 'model_name': 'gpt-4o-2024-08-06', 'system_fingerprint': 'fp_76544d79cb', 'id': 'chatcmpl-BbU1cDNJQLMCpxvMWGl6R1T1GuwU1', 'service_tier': 'default', 'finish_reason': 'stop', 'logprobs': None}, id='run--b7456124-2029-4160-940f-03472a4c663f-0', usage_metadata={'input_tokens': 156, 'output_tokens': 14, 'total_tokens': 170, 'input_token_details': {'audio': 0, 'cache_read': 0}, 'output_token_details': {'audio': 0, 'reasoning': 0}})}}, 'step': 3, 'parents': {}, 'thread_id': '1'}, created_at='2025-05-26T15:27:32.523143+00:00', parent_config={'configurable': {'thread_id': '1', 'checkpoint_ns': '', 'checkpoint_id': '1f03a45f-0892-64cf-8002-73c20293996f'}}, tasks=(), interrupts=()),\n",
       " StateSnapshot(values={'messages': [HumanMessage(content='Multiply 2 and 3', additional_kwargs={}, response_metadata={}, id='5864e299-9438-4881-8e56-e895392bc5cc'), AIMessage(content='', additional_kwargs={'tool_calls': [{'id': 'call_QOetLnjEhsFs7lmSMFQDGc7M', 'function': {'arguments': '{\"a\":2,\"b\":3}', 'name': 'multiply'}, 'type': 'function'}], 'refusal': None}, response_metadata={'token_usage': {'completion_tokens': 17, 'prompt_tokens': 131, 'total_tokens': 148, 'completion_tokens_details': {'accepted_prediction_tokens': 0, 'audio_tokens': 0, 'reasoning_tokens': 0, 'rejected_prediction_tokens': 0}, 'prompt_tokens_details': {'audio_tokens': 0, 'cached_tokens': 0}}, 'model_name': 'gpt-4o-2024-08-06', 'system_fingerprint': 'fp_76544d79cb', 'id': 'chatcmpl-BbU1b2evWb7SK1WVVVS9d1oou2gNB', 'service_tier': 'default', 'finish_reason': 'tool_calls', 'logprobs': None}, id='run--b839461a-705e-44d2-8fb4-c4b036d25da6-0', tool_calls=[{'name': 'multiply', 'args': {'a': 2, 'b': 3}, 'id': 'call_QOetLnjEhsFs7lmSMFQDGc7M', 'type': 'tool_call'}], usage_metadata={'input_tokens': 131, 'output_tokens': 17, 'total_tokens': 148, 'input_token_details': {'audio': 0, 'cache_read': 0}, 'output_token_details': {'audio': 0, 'reasoning': 0}}), ToolMessage(content='6', name='multiply', id='5be6c931-fc5b-4c56-a4a0-1ff5e94ca876', tool_call_id='call_QOetLnjEhsFs7lmSMFQDGc7M')]}, next=('assistant',), config={'configurable': {'thread_id': '1', 'checkpoint_ns': '', 'checkpoint_id': '1f03a45f-0892-64cf-8002-73c20293996f'}}, metadata={'source': 'loop', 'writes': {'tools': {'messages': [ToolMessage(content='6', name='multiply', id='5be6c931-fc5b-4c56-a4a0-1ff5e94ca876', tool_call_id='call_QOetLnjEhsFs7lmSMFQDGc7M')]}}, 'step': 2, 'parents': {}, 'thread_id': '1'}, created_at='2025-05-26T15:27:31.115950+00:00', parent_config={'configurable': {'thread_id': '1', 'checkpoint_ns': '', 'checkpoint_id': '1f03a45f-088d-6104-8001-40de0897f0d6'}}, tasks=(PregelTask(id='0e183825-651a-b6be-9396-c2a7d5bf8ca3', name='assistant', path=('__pregel_pull', 'assistant'), error=None, interrupts=(), state=None, result={'messages': AIMessage(content='The result of multiplying 2 and 3 is 6.', additional_kwargs={'refusal': None}, response_metadata={'token_usage': {'completion_tokens': 14, 'prompt_tokens': 156, 'total_tokens': 170, 'completion_tokens_details': {'accepted_prediction_tokens': 0, 'audio_tokens': 0, 'reasoning_tokens': 0, 'rejected_prediction_tokens': 0}, 'prompt_tokens_details': {'audio_tokens': 0, 'cached_tokens': 0}}, 'model_name': 'gpt-4o-2024-08-06', 'system_fingerprint': 'fp_76544d79cb', 'id': 'chatcmpl-BbU1cDNJQLMCpxvMWGl6R1T1GuwU1', 'service_tier': 'default', 'finish_reason': 'stop', 'logprobs': None}, id='run--b7456124-2029-4160-940f-03472a4c663f-0', usage_metadata={'input_tokens': 156, 'output_tokens': 14, 'total_tokens': 170, 'input_token_details': {'audio': 0, 'cache_read': 0}, 'output_token_details': {'audio': 0, 'reasoning': 0}})}),), interrupts=()),\n",
       " StateSnapshot(values={'messages': [HumanMessage(content='Multiply 2 and 3', additional_kwargs={}, response_metadata={}, id='5864e299-9438-4881-8e56-e895392bc5cc'), AIMessage(content='', additional_kwargs={'tool_calls': [{'id': 'call_QOetLnjEhsFs7lmSMFQDGc7M', 'function': {'arguments': '{\"a\":2,\"b\":3}', 'name': 'multiply'}, 'type': 'function'}], 'refusal': None}, response_metadata={'token_usage': {'completion_tokens': 17, 'prompt_tokens': 131, 'total_tokens': 148, 'completion_tokens_details': {'accepted_prediction_tokens': 0, 'audio_tokens': 0, 'reasoning_tokens': 0, 'rejected_prediction_tokens': 0}, 'prompt_tokens_details': {'audio_tokens': 0, 'cached_tokens': 0}}, 'model_name': 'gpt-4o-2024-08-06', 'system_fingerprint': 'fp_76544d79cb', 'id': 'chatcmpl-BbU1b2evWb7SK1WVVVS9d1oou2gNB', 'service_tier': 'default', 'finish_reason': 'tool_calls', 'logprobs': None}, id='run--b839461a-705e-44d2-8fb4-c4b036d25da6-0', tool_calls=[{'name': 'multiply', 'args': {'a': 2, 'b': 3}, 'id': 'call_QOetLnjEhsFs7lmSMFQDGc7M', 'type': 'tool_call'}], usage_metadata={'input_tokens': 131, 'output_tokens': 17, 'total_tokens': 148, 'input_token_details': {'audio': 0, 'cache_read': 0}, 'output_token_details': {'audio': 0, 'reasoning': 0}})]}, next=('tools',), config={'configurable': {'thread_id': '1', 'checkpoint_ns': '', 'checkpoint_id': '1f03a45f-088d-6104-8001-40de0897f0d6'}}, metadata={'source': 'loop', 'writes': {'assistant': {'messages': AIMessage(content='', additional_kwargs={'tool_calls': [{'id': 'call_QOetLnjEhsFs7lmSMFQDGc7M', 'function': {'arguments': '{\"a\":2,\"b\":3}', 'name': 'multiply'}, 'type': 'function'}], 'refusal': None}, response_metadata={'token_usage': {'completion_tokens': 17, 'prompt_tokens': 131, 'total_tokens': 148, 'completion_tokens_details': {'accepted_prediction_tokens': 0, 'audio_tokens': 0, 'reasoning_tokens': 0, 'rejected_prediction_tokens': 0}, 'prompt_tokens_details': {'audio_tokens': 0, 'cached_tokens': 0}}, 'model_name': 'gpt-4o-2024-08-06', 'system_fingerprint': 'fp_76544d79cb', 'id': 'chatcmpl-BbU1b2evWb7SK1WVVVS9d1oou2gNB', 'service_tier': 'default', 'finish_reason': 'tool_calls', 'logprobs': None}, id='run--b839461a-705e-44d2-8fb4-c4b036d25da6-0', tool_calls=[{'name': 'multiply', 'args': {'a': 2, 'b': 3}, 'id': 'call_QOetLnjEhsFs7lmSMFQDGc7M', 'type': 'tool_call'}], usage_metadata={'input_tokens': 131, 'output_tokens': 17, 'total_tokens': 148, 'input_token_details': {'audio': 0, 'cache_read': 0}, 'output_token_details': {'audio': 0, 'reasoning': 0}})}}, 'step': 1, 'parents': {}, 'thread_id': '1'}, created_at='2025-05-26T15:27:31.113805+00:00', parent_config={'configurable': {'thread_id': '1', 'checkpoint_ns': '', 'checkpoint_id': '1f03a45e-6302-6a10-8000-345b8a7dcca7'}}, tasks=(PregelTask(id='231e1646-6863-4989-7241-09f99bb4d0cc', name='tools', path=('__pregel_pull', 'tools'), error=None, interrupts=(), state=None, result={'messages': [ToolMessage(content='6', name='multiply', id='5be6c931-fc5b-4c56-a4a0-1ff5e94ca876', tool_call_id='call_QOetLnjEhsFs7lmSMFQDGc7M')]}),), interrupts=()),\n",
       " StateSnapshot(values={'messages': [HumanMessage(content='Multiply 2 and 3', additional_kwargs={}, response_metadata={}, id='5864e299-9438-4881-8e56-e895392bc5cc'), AIMessage(content='', additional_kwargs={'tool_calls': [{'id': 'call_5GL2bS7Eio8bvHjKETDd70yr', 'function': {'arguments': '{\"a\":2,\"b\":3}', 'name': 'multiply'}, 'type': 'function'}], 'refusal': None}, response_metadata={'token_usage': {'completion_tokens': 17, 'prompt_tokens': 131, 'total_tokens': 148, 'completion_tokens_details': {'accepted_prediction_tokens': 0, 'audio_tokens': 0, 'reasoning_tokens': 0, 'rejected_prediction_tokens': 0}, 'prompt_tokens_details': {'audio_tokens': 0, 'cached_tokens': 0}}, 'model_name': 'gpt-4o-2024-08-06', 'system_fingerprint': 'fp_76544d79cb', 'id': 'chatcmpl-BbU1NICV8uGXXXuzHs0MFBI1kWidK', 'service_tier': 'default', 'finish_reason': 'tool_calls', 'logprobs': None}, id='run--b28807c8-d167-4ddd-a182-5a80240dad6d-0', tool_calls=[{'name': 'multiply', 'args': {'a': 2, 'b': 3}, 'id': 'call_5GL2bS7Eio8bvHjKETDd70yr', 'type': 'tool_call'}], usage_metadata={'input_tokens': 131, 'output_tokens': 17, 'total_tokens': 148, 'input_token_details': {'audio': 0, 'cache_read': 0}, 'output_token_details': {'audio': 0, 'reasoning': 0}}), ToolMessage(content='6', name='multiply', id='84b19211-2152-4916-9375-4683e0ae492b', tool_call_id='call_5GL2bS7Eio8bvHjKETDd70yr'), AIMessage(content='The result of multiplying 2 and 3 is 6.', additional_kwargs={'refusal': None}, response_metadata={'token_usage': {'completion_tokens': 14, 'prompt_tokens': 156, 'total_tokens': 170, 'completion_tokens_details': {'accepted_prediction_tokens': 0, 'audio_tokens': 0, 'reasoning_tokens': 0, 'rejected_prediction_tokens': 0}, 'prompt_tokens_details': {'audio_tokens': 0, 'cached_tokens': 0}}, 'model_name': 'gpt-4o-2024-08-06', 'system_fingerprint': 'fp_76544d79cb', 'id': 'chatcmpl-BbU1PLrh7tg4hwGPNITHqTNqkD8uC', 'service_tier': 'default', 'finish_reason': 'stop', 'logprobs': None}, id='run--fc658c89-fe68-4e75-8fe3-3526db95c017-0', usage_metadata={'input_tokens': 156, 'output_tokens': 14, 'total_tokens': 170, 'input_token_details': {'audio': 0, 'cache_read': 0}, 'output_token_details': {'audio': 0, 'reasoning': 0}})]}, next=(), config={'configurable': {'thread_id': '1', 'checkpoint_ns': '', 'checkpoint_id': '1f03a45e-94bf-6b48-8003-879f684b5c92'}}, metadata={'source': 'loop', 'writes': {'assistant': {'messages': AIMessage(content='The result of multiplying 2 and 3 is 6.', additional_kwargs={'refusal': None}, response_metadata={'token_usage': {'completion_tokens': 14, 'prompt_tokens': 156, 'total_tokens': 170, 'completion_tokens_details': {'accepted_prediction_tokens': 0, 'audio_tokens': 0, 'reasoning_tokens': 0, 'rejected_prediction_tokens': 0}, 'prompt_tokens_details': {'audio_tokens': 0, 'cached_tokens': 0}}, 'model_name': 'gpt-4o-2024-08-06', 'system_fingerprint': 'fp_76544d79cb', 'id': 'chatcmpl-BbU1PLrh7tg4hwGPNITHqTNqkD8uC', 'service_tier': 'default', 'finish_reason': 'stop', 'logprobs': None}, id='run--fc658c89-fe68-4e75-8fe3-3526db95c017-0', usage_metadata={'input_tokens': 156, 'output_tokens': 14, 'total_tokens': 170, 'input_token_details': {'audio': 0, 'cache_read': 0}, 'output_token_details': {'audio': 0, 'reasoning': 0}})}}, 'step': 3, 'parents': {}, 'thread_id': '1'}, created_at='2025-05-26T15:27:18.971066+00:00', parent_config={'configurable': {'thread_id': '1', 'checkpoint_ns': '', 'checkpoint_id': '1f03a45e-81f9-6605-8002-5fb94ca7eef8'}}, tasks=(), interrupts=()),\n",
       " StateSnapshot(values={'messages': [HumanMessage(content='Multiply 2 and 3', additional_kwargs={}, response_metadata={}, id='5864e299-9438-4881-8e56-e895392bc5cc'), AIMessage(content='', additional_kwargs={'tool_calls': [{'id': 'call_5GL2bS7Eio8bvHjKETDd70yr', 'function': {'arguments': '{\"a\":2,\"b\":3}', 'name': 'multiply'}, 'type': 'function'}], 'refusal': None}, response_metadata={'token_usage': {'completion_tokens': 17, 'prompt_tokens': 131, 'total_tokens': 148, 'completion_tokens_details': {'accepted_prediction_tokens': 0, 'audio_tokens': 0, 'reasoning_tokens': 0, 'rejected_prediction_tokens': 0}, 'prompt_tokens_details': {'audio_tokens': 0, 'cached_tokens': 0}}, 'model_name': 'gpt-4o-2024-08-06', 'system_fingerprint': 'fp_76544d79cb', 'id': 'chatcmpl-BbU1NICV8uGXXXuzHs0MFBI1kWidK', 'service_tier': 'default', 'finish_reason': 'tool_calls', 'logprobs': None}, id='run--b28807c8-d167-4ddd-a182-5a80240dad6d-0', tool_calls=[{'name': 'multiply', 'args': {'a': 2, 'b': 3}, 'id': 'call_5GL2bS7Eio8bvHjKETDd70yr', 'type': 'tool_call'}], usage_metadata={'input_tokens': 131, 'output_tokens': 17, 'total_tokens': 148, 'input_token_details': {'audio': 0, 'cache_read': 0}, 'output_token_details': {'audio': 0, 'reasoning': 0}}), ToolMessage(content='6', name='multiply', id='84b19211-2152-4916-9375-4683e0ae492b', tool_call_id='call_5GL2bS7Eio8bvHjKETDd70yr')]}, next=('assistant',), config={'configurable': {'thread_id': '1', 'checkpoint_ns': '', 'checkpoint_id': '1f03a45e-81f9-6605-8002-5fb94ca7eef8'}}, metadata={'source': 'loop', 'writes': {'tools': {'messages': [ToolMessage(content='6', name='multiply', id='84b19211-2152-4916-9375-4683e0ae492b', tool_call_id='call_5GL2bS7Eio8bvHjKETDd70yr')]}}, 'step': 2, 'parents': {}, 'thread_id': '1'}, created_at='2025-05-26T15:27:17.002394+00:00', parent_config={'configurable': {'thread_id': '1', 'checkpoint_ns': '', 'checkpoint_id': '1f03a45e-81f1-6631-8001-faf571924712'}}, tasks=(PregelTask(id='46f5588f-efed-9fa4-9092-16b67cb09f60', name='assistant', path=('__pregel_pull', 'assistant'), error=None, interrupts=(), state=None, result={'messages': AIMessage(content='The result of multiplying 2 and 3 is 6.', additional_kwargs={'refusal': None}, response_metadata={'token_usage': {'completion_tokens': 14, 'prompt_tokens': 156, 'total_tokens': 170, 'completion_tokens_details': {'accepted_prediction_tokens': 0, 'audio_tokens': 0, 'reasoning_tokens': 0, 'rejected_prediction_tokens': 0}, 'prompt_tokens_details': {'audio_tokens': 0, 'cached_tokens': 0}}, 'model_name': 'gpt-4o-2024-08-06', 'system_fingerprint': 'fp_76544d79cb', 'id': 'chatcmpl-BbU1PLrh7tg4hwGPNITHqTNqkD8uC', 'service_tier': 'default', 'finish_reason': 'stop', 'logprobs': None}, id='run--fc658c89-fe68-4e75-8fe3-3526db95c017-0', usage_metadata={'input_tokens': 156, 'output_tokens': 14, 'total_tokens': 170, 'input_token_details': {'audio': 0, 'cache_read': 0}, 'output_token_details': {'audio': 0, 'reasoning': 0}})}),), interrupts=()),\n",
       " StateSnapshot(values={'messages': [HumanMessage(content='Multiply 2 and 3', additional_kwargs={}, response_metadata={}, id='5864e299-9438-4881-8e56-e895392bc5cc'), AIMessage(content='', additional_kwargs={'tool_calls': [{'id': 'call_5GL2bS7Eio8bvHjKETDd70yr', 'function': {'arguments': '{\"a\":2,\"b\":3}', 'name': 'multiply'}, 'type': 'function'}], 'refusal': None}, response_metadata={'token_usage': {'completion_tokens': 17, 'prompt_tokens': 131, 'total_tokens': 148, 'completion_tokens_details': {'accepted_prediction_tokens': 0, 'audio_tokens': 0, 'reasoning_tokens': 0, 'rejected_prediction_tokens': 0}, 'prompt_tokens_details': {'audio_tokens': 0, 'cached_tokens': 0}}, 'model_name': 'gpt-4o-2024-08-06', 'system_fingerprint': 'fp_76544d79cb', 'id': 'chatcmpl-BbU1NICV8uGXXXuzHs0MFBI1kWidK', 'service_tier': 'default', 'finish_reason': 'tool_calls', 'logprobs': None}, id='run--b28807c8-d167-4ddd-a182-5a80240dad6d-0', tool_calls=[{'name': 'multiply', 'args': {'a': 2, 'b': 3}, 'id': 'call_5GL2bS7Eio8bvHjKETDd70yr', 'type': 'tool_call'}], usage_metadata={'input_tokens': 131, 'output_tokens': 17, 'total_tokens': 148, 'input_token_details': {'audio': 0, 'cache_read': 0}, 'output_token_details': {'audio': 0, 'reasoning': 0}})]}, next=('tools',), config={'configurable': {'thread_id': '1', 'checkpoint_ns': '', 'checkpoint_id': '1f03a45e-81f1-6631-8001-faf571924712'}}, metadata={'source': 'loop', 'writes': {'assistant': {'messages': AIMessage(content='', additional_kwargs={'tool_calls': [{'id': 'call_5GL2bS7Eio8bvHjKETDd70yr', 'function': {'arguments': '{\"a\":2,\"b\":3}', 'name': 'multiply'}, 'type': 'function'}], 'refusal': None}, response_metadata={'token_usage': {'completion_tokens': 17, 'prompt_tokens': 131, 'total_tokens': 148, 'completion_tokens_details': {'accepted_prediction_tokens': 0, 'audio_tokens': 0, 'reasoning_tokens': 0, 'rejected_prediction_tokens': 0}, 'prompt_tokens_details': {'audio_tokens': 0, 'cached_tokens': 0}}, 'model_name': 'gpt-4o-2024-08-06', 'system_fingerprint': 'fp_76544d79cb', 'id': 'chatcmpl-BbU1NICV8uGXXXuzHs0MFBI1kWidK', 'service_tier': 'default', 'finish_reason': 'tool_calls', 'logprobs': None}, id='run--b28807c8-d167-4ddd-a182-5a80240dad6d-0', tool_calls=[{'name': 'multiply', 'args': {'a': 2, 'b': 3}, 'id': 'call_5GL2bS7Eio8bvHjKETDd70yr', 'type': 'tool_call'}], usage_metadata={'input_tokens': 131, 'output_tokens': 17, 'total_tokens': 148, 'input_token_details': {'audio': 0, 'cache_read': 0}, 'output_token_details': {'audio': 0, 'reasoning': 0}})}}, 'step': 1, 'parents': {}, 'thread_id': '1'}, created_at='2025-05-26T15:27:16.999121+00:00', parent_config={'configurable': {'thread_id': '1', 'checkpoint_ns': '', 'checkpoint_id': '1f03a45e-6302-6a10-8000-345b8a7dcca7'}}, tasks=(PregelTask(id='77865beb-50a6-b2b6-3b5b-2a8af43084ce', name='tools', path=('__pregel_pull', 'tools'), error=None, interrupts=(), state=None, result={'messages': [ToolMessage(content='6', name='multiply', id='84b19211-2152-4916-9375-4683e0ae492b', tool_call_id='call_5GL2bS7Eio8bvHjKETDd70yr')]}),), interrupts=()),\n",
       " StateSnapshot(values={'messages': [HumanMessage(content='Multiply 2 and 3', additional_kwargs={}, response_metadata={}, id='5864e299-9438-4881-8e56-e895392bc5cc')]}, next=('assistant',), config={'configurable': {'thread_id': '1', 'checkpoint_ns': '', 'checkpoint_id': '1f03a45e-6302-6a10-8000-345b8a7dcca7'}}, metadata={'source': 'loop', 'writes': None, 'step': 0, 'parents': {}, 'thread_id': '1'}, created_at='2025-05-26T15:27:13.755598+00:00', parent_config={'configurable': {'thread_id': '1', 'checkpoint_ns': '', 'checkpoint_id': '1f03a45e-62fb-63d6-bfff-10ddbe2e3e77'}}, tasks=(PregelTask(id='154d2a78-804a-e0bd-313d-090a3e4ba4b8', name='assistant', path=('__pregel_pull', 'assistant'), error=None, interrupts=(), state=None, result={'messages': AIMessage(content='', additional_kwargs={'tool_calls': [{'id': 'call_5GL2bS7Eio8bvHjKETDd70yr', 'function': {'arguments': '{\"a\":2,\"b\":3}', 'name': 'multiply'}, 'type': 'function'}], 'refusal': None}, response_metadata={'token_usage': {'completion_tokens': 17, 'prompt_tokens': 131, 'total_tokens': 148, 'completion_tokens_details': {'accepted_prediction_tokens': 0, 'audio_tokens': 0, 'reasoning_tokens': 0, 'rejected_prediction_tokens': 0}, 'prompt_tokens_details': {'audio_tokens': 0, 'cached_tokens': 0}}, 'model_name': 'gpt-4o-2024-08-06', 'system_fingerprint': 'fp_76544d79cb', 'id': 'chatcmpl-BbU1NICV8uGXXXuzHs0MFBI1kWidK', 'service_tier': 'default', 'finish_reason': 'tool_calls', 'logprobs': None}, id='run--b28807c8-d167-4ddd-a182-5a80240dad6d-0', tool_calls=[{'name': 'multiply', 'args': {'a': 2, 'b': 3}, 'id': 'call_5GL2bS7Eio8bvHjKETDd70yr', 'type': 'tool_call'}], usage_metadata={'input_tokens': 131, 'output_tokens': 17, 'total_tokens': 148, 'input_token_details': {'audio': 0, 'cache_read': 0}, 'output_token_details': {'audio': 0, 'reasoning': 0}})}),), interrupts=()),\n",
       " StateSnapshot(values={'messages': []}, next=('__start__',), config={'configurable': {'thread_id': '1', 'checkpoint_ns': '', 'checkpoint_id': '1f03a45e-62fb-63d6-bfff-10ddbe2e3e77'}}, metadata={'source': 'input', 'writes': {'__start__': {'messages': HumanMessage(content='Multiply 2 and 3', additional_kwargs={}, response_metadata={})}}, 'step': -1, 'parents': {}, 'thread_id': '1'}, created_at='2025-05-26T15:27:13.752571+00:00', parent_config=None, tasks=(PregelTask(id='cc10f2fb-91b1-276b-9781-a18478700ef1', name='__start__', path=('__pregel_pull', '__start__'), error=None, interrupts=(), state=None, result={'messages': HumanMessage(content='Multiply 2 and 3', additional_kwargs={}, response_metadata={}, id='5864e299-9438-4881-8e56-e895392bc5cc')}),), interrupts=())]"
      ]
     },
     "execution_count": 53,
     "metadata": {},
     "output_type": "execute_result"
    }
   ],
   "source": [
    "all_states = [state for state in graph.get_state_history(thread) ]\n",
    "all_states"
   ]
  },
  {
   "cell_type": "code",
   "execution_count": 54,
   "metadata": {},
   "outputs": [
    {
     "data": {
      "text/plain": [
       "StateSnapshot(values={'messages': [HumanMessage(content='Multiply 3 and 4', additional_kwargs={}, response_metadata={}, id='5864e299-9438-4881-8e56-e895392bc5cc')]}, next=('assistant',), config={'configurable': {'thread_id': '1', 'checkpoint_ns': '', 'checkpoint_id': '1f03a48a-7078-6318-8001-42ecd4de5067'}}, metadata={'source': 'update', 'writes': {'__start__': {'messages': [HumanMessage(content='Multiply 3 and 4', additional_kwargs={}, response_metadata={}, id='5864e299-9438-4881-8e56-e895392bc5cc')]}}, 'step': 1, 'parents': {}, 'thread_id': '1', 'checkpoint_ns': '', 'checkpoint_id': '1f03a45e-6302-6a10-8000-345b8a7dcca7'}, created_at='2025-05-26T15:46:56.282908+00:00', parent_config={'configurable': {'thread_id': '1', 'checkpoint_ns': '', 'checkpoint_id': '1f03a45e-6302-6a10-8000-345b8a7dcca7'}}, tasks=(PregelTask(id='e3d359a3-aa34-cfd6-b863-cbc29214a185', name='assistant', path=('__pregel_pull', 'assistant'), error=None, interrupts=(), state=None, result=None),), interrupts=())"
      ]
     },
     "execution_count": 54,
     "metadata": {},
     "output_type": "execute_result"
    }
   ],
   "source": [
    "graph.get_state({'configurable': {'thread_id': '1'}})"
   ]
  },
  {
   "cell_type": "code",
   "execution_count": 55,
   "metadata": {},
   "outputs": [
    {
     "name": "stdout",
     "output_type": "stream",
     "text": [
      "================================\u001b[1m Human Message \u001b[0m=================================\n",
      "\n",
      "Multiply 3 and 4\n",
      "==================================\u001b[1m Ai Message \u001b[0m==================================\n",
      "Tool Calls:\n",
      "  multiply (call_ze5qsx01C4YhYEbLQfUIFpLo)\n",
      " Call ID: call_ze5qsx01C4YhYEbLQfUIFpLo\n",
      "  Args:\n",
      "    a: 3\n",
      "    b: 4\n",
      "=================================\u001b[1m Tool Message \u001b[0m=================================\n",
      "Name: multiply\n",
      "\n",
      "12\n",
      "==================================\u001b[1m Ai Message \u001b[0m==================================\n",
      "\n",
      "The result of multiplying 3 and 4 is 12.\n"
     ]
    }
   ],
   "source": [
    "for event in graph.stream(None, fork_config, stream_mode=\"values\"):\n",
    "    event['messages'][-1].pretty_print()"
   ]
  },
  {
   "cell_type": "code",
   "execution_count": 56,
   "metadata": {},
   "outputs": [
    {
     "name": "stdout",
     "output_type": "stream",
     "text": [
      "================================\u001b[1m Human Message \u001b[0m=================================\n",
      "\n",
      "What was my first message ?\n",
      "==================================\u001b[1m Ai Message \u001b[0m==================================\n",
      "\n",
      "Your first message was \"Multiply 3 and 4\".\n"
     ]
    }
   ],
   "source": [
    "for event in graph.stream({\"messages\": HumanMessage(content=\"What was my first message ?\")}, fork_config, stream_mode=\"values\"):\n",
    "    event['messages'][-1].pretty_print()"
   ]
  },
  {
   "cell_type": "code",
   "execution_count": 86,
   "metadata": {},
   "outputs": [],
   "source": [
    "from langgraph_sdk import get_client\n",
    "\n",
    "client = get_client(url=\"http://127.0.0.1:2024\")"
   ]
  },
  {
   "cell_type": "code",
   "execution_count": 87,
   "metadata": {},
   "outputs": [
    {
     "data": {
      "text/plain": [
       "[{'assistant_id': '6f6fce9a-b777-529d-9699-dd340ddec86c',\n",
       "  'graph_id': 'dynamic_breakpoints',\n",
       "  'config': {},\n",
       "  'metadata': {'created_by': 'system'},\n",
       "  'name': 'dynamic_breakpoints',\n",
       "  'created_at': '2025-05-25T13:10:51.548011+00:00',\n",
       "  'updated_at': '2025-05-25T13:10:51.548011+00:00',\n",
       "  'version': 1,\n",
       "  'description': None},\n",
       " {'assistant_id': 'fe096781-5601-53d2-b2f6-0d3403f7e9ca',\n",
       "  'graph_id': 'agent',\n",
       "  'config': {},\n",
       "  'metadata': {'created_by': 'system'},\n",
       "  'name': 'agent',\n",
       "  'created_at': '2025-05-25T13:10:51.542586+00:00',\n",
       "  'updated_at': '2025-05-25T13:10:51.542586+00:00',\n",
       "  'version': 1,\n",
       "  'description': None}]"
      ]
     },
     "execution_count": 87,
     "metadata": {},
     "output_type": "execute_result"
    }
   ],
   "source": [
    "assistants = await client.assistants.search()\n",
    "assistants"
   ]
  },
  {
   "cell_type": "code",
   "execution_count": 88,
   "metadata": {},
   "outputs": [
    {
     "name": "stdout",
     "output_type": "stream",
     "text": [
      "--------------------Assistant Node--------------------\n",
      "{'content': '', 'additional_kwargs': {'tool_calls': [{'id': 'call_oVYy1SsKAsywGhoOxtO5h1Br', 'function': {'arguments': '{\"a\":2,\"b\":3}', 'name': 'multiply'}, 'type': 'function'}], 'refusal': None}, 'response_metadata': {'token_usage': {'completion_tokens': 17, 'prompt_tokens': 134, 'total_tokens': 151, 'completion_tokens_details': {'accepted_prediction_tokens': 0, 'audio_tokens': 0, 'reasoning_tokens': 0, 'rejected_prediction_tokens': 0}, 'prompt_tokens_details': {'audio_tokens': 0, 'cached_tokens': 0}}, 'model_name': 'gpt-4o-2024-08-06', 'system_fingerprint': 'fp_07871e2ad8', 'id': 'chatcmpl-BbVMX2gvagPTsDUabAsWnj79ukRKJ', 'service_tier': 'default', 'finish_reason': 'tool_calls', 'logprobs': None}, 'type': 'ai', 'name': None, 'id': 'run--88924948-461d-47a5-aa98-79efdda01b87-0', 'example': False, 'tool_calls': [{'name': 'multiply', 'args': {'a': 2, 'b': 3}, 'id': 'call_oVYy1SsKAsywGhoOxtO5h1Br', 'type': 'tool_call'}], 'invalid_tool_calls': [], 'usage_metadata': {'input_tokens': 134, 'output_tokens': 17, 'total_tokens': 151, 'input_token_details': {'audio': 0, 'cache_read': 0}, 'output_token_details': {'audio': 0, 'reasoning': 0}}}\n",
      "--------------------Tool Node--------------------\n",
      "{'content': '6', 'additional_kwargs': {}, 'response_metadata': {}, 'type': 'tool', 'name': 'multiply', 'id': 'b0cfc575-ebb7-45d2-a1c8-9072dba30dcc', 'tool_call_id': 'call_oVYy1SsKAsywGhoOxtO5h1Br', 'artifact': None, 'status': 'success'}\n",
      "--------------------Assistant Node--------------------\n",
      "{'content': 'The result of multiplying 2 and 3 is 6.', 'additional_kwargs': {'refusal': None}, 'response_metadata': {'token_usage': {'completion_tokens': 14, 'prompt_tokens': 159, 'total_tokens': 173, 'completion_tokens_details': {'accepted_prediction_tokens': 0, 'audio_tokens': 0, 'reasoning_tokens': 0, 'rejected_prediction_tokens': 0}, 'prompt_tokens_details': {'audio_tokens': 0, 'cached_tokens': 0}}, 'model_name': 'gpt-4o-2024-08-06', 'system_fingerprint': 'fp_07871e2ad8', 'id': 'chatcmpl-BbVMYedBggMa4bJL0PpVHBlJa5KrJ', 'service_tier': 'default', 'finish_reason': 'stop', 'logprobs': None}, 'type': 'ai', 'name': None, 'id': 'run--fdd33c34-a0ae-4788-af31-1b831d5519ba-0', 'example': False, 'tool_calls': [], 'invalid_tool_calls': [], 'usage_metadata': {'input_tokens': 159, 'output_tokens': 14, 'total_tokens': 173, 'input_token_details': {'audio': 0, 'cache_read': 0}, 'output_token_details': {'audio': 0, 'reasoning': 0}}}\n"
     ]
    }
   ],
   "source": [
    "initial_input = {\"messages\": [HumanMessage(content=\"Multiply 2 and 3\")]}\n",
    "thread = await client.threads.create()\n",
    "\n",
    "async for chunk in client.runs.stream(thread[\"thread_id\"], assistant_id=\"agent\", input=initial_input, stream_mode=\"updates\"):\n",
    "    if chunk.data:\n",
    "        assistant_node = chunk.data.get(\"assistant\", {}).get('messages', [])\n",
    "        tool_node = chunk.data.get('tools', {}).get('messages', [])\n",
    "        if assistant_node:\n",
    "            print(\"-\" * 20+\"Assistant Node\"+\"-\" * 20)\n",
    "            print(assistant_node[-1])\n",
    "        if tool_node:\n",
    "            print(\"-\" * 20+\"Tool Node\"+\"-\" * 20)\n",
    "            print(tool_node[-1])"
   ]
  },
  {
   "cell_type": "code",
   "execution_count": 89,
   "metadata": {},
   "outputs": [],
   "source": [
    "states = await client.threads.get_history(thread_id=thread[\"thread_id\"])"
   ]
  },
  {
   "cell_type": "code",
   "execution_count": 90,
   "metadata": {},
   "outputs": [
    {
     "data": {
      "text/plain": [
       "[{'values': {'messages': [{'content': 'Multiply 2 and 3',\n",
       "     'additional_kwargs': {},\n",
       "     'response_metadata': {},\n",
       "     'type': 'human',\n",
       "     'name': None,\n",
       "     'id': '7b6498f0-41aa-446d-abcd-7d84af492bf8',\n",
       "     'example': False},\n",
       "    {'content': '',\n",
       "     'additional_kwargs': {'tool_calls': [{'id': 'call_oVYy1SsKAsywGhoOxtO5h1Br',\n",
       "        'function': {'arguments': '{\"a\":2,\"b\":3}', 'name': 'multiply'},\n",
       "        'type': 'function'}],\n",
       "      'refusal': None},\n",
       "     'response_metadata': {'token_usage': {'completion_tokens': 17,\n",
       "       'prompt_tokens': 134,\n",
       "       'total_tokens': 151,\n",
       "       'completion_tokens_details': {'accepted_prediction_tokens': 0,\n",
       "        'audio_tokens': 0,\n",
       "        'reasoning_tokens': 0,\n",
       "        'rejected_prediction_tokens': 0},\n",
       "       'prompt_tokens_details': {'audio_tokens': 0, 'cached_tokens': 0}},\n",
       "      'model_name': 'gpt-4o-2024-08-06',\n",
       "      'system_fingerprint': 'fp_07871e2ad8',\n",
       "      'id': 'chatcmpl-BbVMX2gvagPTsDUabAsWnj79ukRKJ',\n",
       "      'service_tier': 'default',\n",
       "      'finish_reason': 'tool_calls',\n",
       "      'logprobs': None},\n",
       "     'type': 'ai',\n",
       "     'name': None,\n",
       "     'id': 'run--88924948-461d-47a5-aa98-79efdda01b87-0',\n",
       "     'example': False,\n",
       "     'tool_calls': [{'name': 'multiply',\n",
       "       'args': {'a': 2, 'b': 3},\n",
       "       'id': 'call_oVYy1SsKAsywGhoOxtO5h1Br',\n",
       "       'type': 'tool_call'}],\n",
       "     'invalid_tool_calls': [],\n",
       "     'usage_metadata': {'input_tokens': 134,\n",
       "      'output_tokens': 17,\n",
       "      'total_tokens': 151,\n",
       "      'input_token_details': {'audio': 0, 'cache_read': 0},\n",
       "      'output_token_details': {'audio': 0, 'reasoning': 0}}},\n",
       "    {'content': '6',\n",
       "     'additional_kwargs': {},\n",
       "     'response_metadata': {},\n",
       "     'type': 'tool',\n",
       "     'name': 'multiply',\n",
       "     'id': 'b0cfc575-ebb7-45d2-a1c8-9072dba30dcc',\n",
       "     'tool_call_id': 'call_oVYy1SsKAsywGhoOxtO5h1Br',\n",
       "     'artifact': None,\n",
       "     'status': 'success'},\n",
       "    {'content': 'The result of multiplying 2 and 3 is 6.',\n",
       "     'additional_kwargs': {'refusal': None},\n",
       "     'response_metadata': {'token_usage': {'completion_tokens': 14,\n",
       "       'prompt_tokens': 159,\n",
       "       'total_tokens': 173,\n",
       "       'completion_tokens_details': {'accepted_prediction_tokens': 0,\n",
       "        'audio_tokens': 0,\n",
       "        'reasoning_tokens': 0,\n",
       "        'rejected_prediction_tokens': 0},\n",
       "       'prompt_tokens_details': {'audio_tokens': 0, 'cached_tokens': 0}},\n",
       "      'model_name': 'gpt-4o-2024-08-06',\n",
       "      'system_fingerprint': 'fp_07871e2ad8',\n",
       "      'id': 'chatcmpl-BbVMYedBggMa4bJL0PpVHBlJa5KrJ',\n",
       "      'service_tier': 'default',\n",
       "      'finish_reason': 'stop',\n",
       "      'logprobs': None},\n",
       "     'type': 'ai',\n",
       "     'name': None,\n",
       "     'id': 'run--fdd33c34-a0ae-4788-af31-1b831d5519ba-0',\n",
       "     'example': False,\n",
       "     'tool_calls': [],\n",
       "     'invalid_tool_calls': [],\n",
       "     'usage_metadata': {'input_tokens': 159,\n",
       "      'output_tokens': 14,\n",
       "      'total_tokens': 173,\n",
       "      'input_token_details': {'audio': 0, 'cache_read': 0},\n",
       "      'output_token_details': {'audio': 0, 'reasoning': 0}}}]},\n",
       "  'next': [],\n",
       "  'tasks': [],\n",
       "  'metadata': {'user-agent': 'langgraph-sdk-py/0.1.70',\n",
       "   'x-request-id': 'ad87d3e2-185c-44af-b47a-13ca2e7c1579',\n",
       "   'langgraph_auth_user': None,\n",
       "   'langgraph_auth_user_id': '',\n",
       "   'langgraph_auth_permissions': [],\n",
       "   'langgraph_request_id': 'ad87d3e2-185c-44af-b47a-13ca2e7c1579',\n",
       "   'graph_id': 'agent',\n",
       "   'assistant_id': 'fe096781-5601-53d2-b2f6-0d3403f7e9ca',\n",
       "   'user_id': '',\n",
       "   'created_by': 'system',\n",
       "   'run_attempt': 1,\n",
       "   'langgraph_version': '0.4.7',\n",
       "   'langgraph_plan': 'developer',\n",
       "   'langgraph_host': 'self-hosted',\n",
       "   'langgraph_api_url': 'http://127.0.0.1:2024',\n",
       "   'run_id': '1f03a51e-6996-6bc1-a537-a1b28875f2c4',\n",
       "   'thread_id': '0aeaf43b-34fd-4015-a390-9bc769ff4d60',\n",
       "   'source': 'loop',\n",
       "   'writes': {'assistant': {'messages': [{'content': 'The result of multiplying 2 and 3 is 6.',\n",
       "       'additional_kwargs': {'refusal': None},\n",
       "       'response_metadata': {'token_usage': {'completion_tokens': 14,\n",
       "         'prompt_tokens': 159,\n",
       "         'total_tokens': 173,\n",
       "         'completion_tokens_details': {'accepted_prediction_tokens': 0,\n",
       "          'audio_tokens': 0,\n",
       "          'reasoning_tokens': 0,\n",
       "          'rejected_prediction_tokens': 0},\n",
       "         'prompt_tokens_details': {'audio_tokens': 0, 'cached_tokens': 0}},\n",
       "        'model_name': 'gpt-4o-2024-08-06',\n",
       "        'system_fingerprint': 'fp_07871e2ad8',\n",
       "        'id': 'chatcmpl-BbVMYedBggMa4bJL0PpVHBlJa5KrJ',\n",
       "        'service_tier': 'default',\n",
       "        'finish_reason': 'stop',\n",
       "        'logprobs': None},\n",
       "       'type': 'ai',\n",
       "       'name': None,\n",
       "       'id': 'run--fdd33c34-a0ae-4788-af31-1b831d5519ba-0',\n",
       "       'example': False,\n",
       "       'tool_calls': [],\n",
       "       'invalid_tool_calls': [],\n",
       "       'usage_metadata': {'input_tokens': 159,\n",
       "        'output_tokens': 14,\n",
       "        'total_tokens': 173,\n",
       "        'input_token_details': {'audio': 0, 'cache_read': 0},\n",
       "        'output_token_details': {'audio': 0, 'reasoning': 0}}}]}},\n",
       "   'step': 3,\n",
       "   'parents': {}},\n",
       "  'created_at': '2025-05-26T16:53:13.892131+00:00',\n",
       "  'checkpoint': {'checkpoint_id': '1f03a51e-9de8-6362-8003-4bebfa971f9b',\n",
       "   'thread_id': '0aeaf43b-34fd-4015-a390-9bc769ff4d60',\n",
       "   'checkpoint_ns': ''},\n",
       "  'parent_checkpoint': {'checkpoint_id': '1f03a51e-92ab-6b30-8002-55845492f9ce',\n",
       "   'thread_id': '0aeaf43b-34fd-4015-a390-9bc769ff4d60',\n",
       "   'checkpoint_ns': ''},\n",
       "  'checkpoint_id': '1f03a51e-9de8-6362-8003-4bebfa971f9b',\n",
       "  'parent_checkpoint_id': '1f03a51e-92ab-6b30-8002-55845492f9ce'},\n",
       " {'values': {'messages': [{'content': 'Multiply 2 and 3',\n",
       "     'additional_kwargs': {},\n",
       "     'response_metadata': {},\n",
       "     'type': 'human',\n",
       "     'name': None,\n",
       "     'id': '7b6498f0-41aa-446d-abcd-7d84af492bf8',\n",
       "     'example': False},\n",
       "    {'content': '',\n",
       "     'additional_kwargs': {'tool_calls': [{'id': 'call_oVYy1SsKAsywGhoOxtO5h1Br',\n",
       "        'function': {'arguments': '{\"a\":2,\"b\":3}', 'name': 'multiply'},\n",
       "        'type': 'function'}],\n",
       "      'refusal': None},\n",
       "     'response_metadata': {'token_usage': {'completion_tokens': 17,\n",
       "       'prompt_tokens': 134,\n",
       "       'total_tokens': 151,\n",
       "       'completion_tokens_details': {'accepted_prediction_tokens': 0,\n",
       "        'audio_tokens': 0,\n",
       "        'reasoning_tokens': 0,\n",
       "        'rejected_prediction_tokens': 0},\n",
       "       'prompt_tokens_details': {'audio_tokens': 0, 'cached_tokens': 0}},\n",
       "      'model_name': 'gpt-4o-2024-08-06',\n",
       "      'system_fingerprint': 'fp_07871e2ad8',\n",
       "      'id': 'chatcmpl-BbVMX2gvagPTsDUabAsWnj79ukRKJ',\n",
       "      'service_tier': 'default',\n",
       "      'finish_reason': 'tool_calls',\n",
       "      'logprobs': None},\n",
       "     'type': 'ai',\n",
       "     'name': None,\n",
       "     'id': 'run--88924948-461d-47a5-aa98-79efdda01b87-0',\n",
       "     'example': False,\n",
       "     'tool_calls': [{'name': 'multiply',\n",
       "       'args': {'a': 2, 'b': 3},\n",
       "       'id': 'call_oVYy1SsKAsywGhoOxtO5h1Br',\n",
       "       'type': 'tool_call'}],\n",
       "     'invalid_tool_calls': [],\n",
       "     'usage_metadata': {'input_tokens': 134,\n",
       "      'output_tokens': 17,\n",
       "      'total_tokens': 151,\n",
       "      'input_token_details': {'audio': 0, 'cache_read': 0},\n",
       "      'output_token_details': {'audio': 0, 'reasoning': 0}}},\n",
       "    {'content': '6',\n",
       "     'additional_kwargs': {},\n",
       "     'response_metadata': {},\n",
       "     'type': 'tool',\n",
       "     'name': 'multiply',\n",
       "     'id': 'b0cfc575-ebb7-45d2-a1c8-9072dba30dcc',\n",
       "     'tool_call_id': 'call_oVYy1SsKAsywGhoOxtO5h1Br',\n",
       "     'artifact': None,\n",
       "     'status': 'success'}]},\n",
       "  'next': ['assistant'],\n",
       "  'tasks': [{'id': '57a7c4c1-52e4-7698-c470-38b11947789f',\n",
       "    'name': 'assistant',\n",
       "    'path': ['__pregel_pull', 'assistant'],\n",
       "    'error': None,\n",
       "    'interrupts': [],\n",
       "    'checkpoint': None,\n",
       "    'state': None,\n",
       "    'result': {'messages': [{'content': 'The result of multiplying 2 and 3 is 6.',\n",
       "       'additional_kwargs': {'refusal': None},\n",
       "       'response_metadata': {'token_usage': {'completion_tokens': 14,\n",
       "         'prompt_tokens': 159,\n",
       "         'total_tokens': 173,\n",
       "         'completion_tokens_details': {'accepted_prediction_tokens': 0,\n",
       "          'audio_tokens': 0,\n",
       "          'reasoning_tokens': 0,\n",
       "          'rejected_prediction_tokens': 0},\n",
       "         'prompt_tokens_details': {'audio_tokens': 0, 'cached_tokens': 0}},\n",
       "        'model_name': 'gpt-4o-2024-08-06',\n",
       "        'system_fingerprint': 'fp_07871e2ad8',\n",
       "        'id': 'chatcmpl-BbVMYedBggMa4bJL0PpVHBlJa5KrJ',\n",
       "        'service_tier': 'default',\n",
       "        'finish_reason': 'stop',\n",
       "        'logprobs': None},\n",
       "       'type': 'ai',\n",
       "       'name': None,\n",
       "       'id': 'run--fdd33c34-a0ae-4788-af31-1b831d5519ba-0',\n",
       "       'example': False,\n",
       "       'tool_calls': [],\n",
       "       'invalid_tool_calls': [],\n",
       "       'usage_metadata': {'input_tokens': 159,\n",
       "        'output_tokens': 14,\n",
       "        'total_tokens': 173,\n",
       "        'input_token_details': {'audio': 0, 'cache_read': 0},\n",
       "        'output_token_details': {'audio': 0, 'reasoning': 0}}}]}}],\n",
       "  'metadata': {'user-agent': 'langgraph-sdk-py/0.1.70',\n",
       "   'x-request-id': 'ad87d3e2-185c-44af-b47a-13ca2e7c1579',\n",
       "   'langgraph_auth_user': None,\n",
       "   'langgraph_auth_user_id': '',\n",
       "   'langgraph_auth_permissions': [],\n",
       "   'langgraph_request_id': 'ad87d3e2-185c-44af-b47a-13ca2e7c1579',\n",
       "   'graph_id': 'agent',\n",
       "   'assistant_id': 'fe096781-5601-53d2-b2f6-0d3403f7e9ca',\n",
       "   'user_id': '',\n",
       "   'created_by': 'system',\n",
       "   'run_attempt': 1,\n",
       "   'langgraph_version': '0.4.7',\n",
       "   'langgraph_plan': 'developer',\n",
       "   'langgraph_host': 'self-hosted',\n",
       "   'langgraph_api_url': 'http://127.0.0.1:2024',\n",
       "   'run_id': '1f03a51e-6996-6bc1-a537-a1b28875f2c4',\n",
       "   'thread_id': '0aeaf43b-34fd-4015-a390-9bc769ff4d60',\n",
       "   'source': 'loop',\n",
       "   'writes': {'tools': {'messages': [{'content': '6',\n",
       "       'additional_kwargs': {},\n",
       "       'response_metadata': {},\n",
       "       'type': 'tool',\n",
       "       'name': 'multiply',\n",
       "       'id': 'b0cfc575-ebb7-45d2-a1c8-9072dba30dcc',\n",
       "       'tool_call_id': 'call_oVYy1SsKAsywGhoOxtO5h1Br',\n",
       "       'artifact': None,\n",
       "       'status': 'success'}]}},\n",
       "   'step': 2,\n",
       "   'parents': {}},\n",
       "  'created_at': '2025-05-26T16:53:12.713912+00:00',\n",
       "  'checkpoint': {'checkpoint_id': '1f03a51e-92ab-6b30-8002-55845492f9ce',\n",
       "   'thread_id': '0aeaf43b-34fd-4015-a390-9bc769ff4d60',\n",
       "   'checkpoint_ns': ''},\n",
       "  'parent_checkpoint': {'checkpoint_id': '1f03a51e-92a0-6fe6-8001-c70f323ead0d',\n",
       "   'thread_id': '0aeaf43b-34fd-4015-a390-9bc769ff4d60',\n",
       "   'checkpoint_ns': ''},\n",
       "  'checkpoint_id': '1f03a51e-92ab-6b30-8002-55845492f9ce',\n",
       "  'parent_checkpoint_id': '1f03a51e-92a0-6fe6-8001-c70f323ead0d'},\n",
       " {'values': {'messages': [{'content': 'Multiply 2 and 3',\n",
       "     'additional_kwargs': {},\n",
       "     'response_metadata': {},\n",
       "     'type': 'human',\n",
       "     'name': None,\n",
       "     'id': '7b6498f0-41aa-446d-abcd-7d84af492bf8',\n",
       "     'example': False},\n",
       "    {'content': '',\n",
       "     'additional_kwargs': {'tool_calls': [{'id': 'call_oVYy1SsKAsywGhoOxtO5h1Br',\n",
       "        'function': {'arguments': '{\"a\":2,\"b\":3}', 'name': 'multiply'},\n",
       "        'type': 'function'}],\n",
       "      'refusal': None},\n",
       "     'response_metadata': {'token_usage': {'completion_tokens': 17,\n",
       "       'prompt_tokens': 134,\n",
       "       'total_tokens': 151,\n",
       "       'completion_tokens_details': {'accepted_prediction_tokens': 0,\n",
       "        'audio_tokens': 0,\n",
       "        'reasoning_tokens': 0,\n",
       "        'rejected_prediction_tokens': 0},\n",
       "       'prompt_tokens_details': {'audio_tokens': 0, 'cached_tokens': 0}},\n",
       "      'model_name': 'gpt-4o-2024-08-06',\n",
       "      'system_fingerprint': 'fp_07871e2ad8',\n",
       "      'id': 'chatcmpl-BbVMX2gvagPTsDUabAsWnj79ukRKJ',\n",
       "      'service_tier': 'default',\n",
       "      'finish_reason': 'tool_calls',\n",
       "      'logprobs': None},\n",
       "     'type': 'ai',\n",
       "     'name': None,\n",
       "     'id': 'run--88924948-461d-47a5-aa98-79efdda01b87-0',\n",
       "     'example': False,\n",
       "     'tool_calls': [{'name': 'multiply',\n",
       "       'args': {'a': 2, 'b': 3},\n",
       "       'id': 'call_oVYy1SsKAsywGhoOxtO5h1Br',\n",
       "       'type': 'tool_call'}],\n",
       "     'invalid_tool_calls': [],\n",
       "     'usage_metadata': {'input_tokens': 134,\n",
       "      'output_tokens': 17,\n",
       "      'total_tokens': 151,\n",
       "      'input_token_details': {'audio': 0, 'cache_read': 0},\n",
       "      'output_token_details': {'audio': 0, 'reasoning': 0}}}]},\n",
       "  'next': ['tools'],\n",
       "  'tasks': [{'id': 'a6d1b5b1-d42a-8595-b22c-69095f9665c7',\n",
       "    'name': 'tools',\n",
       "    'path': ['__pregel_pull', 'tools'],\n",
       "    'error': None,\n",
       "    'interrupts': [],\n",
       "    'checkpoint': None,\n",
       "    'state': None,\n",
       "    'result': {'messages': [{'content': '6',\n",
       "       'additional_kwargs': {},\n",
       "       'response_metadata': {},\n",
       "       'type': 'tool',\n",
       "       'name': 'multiply',\n",
       "       'id': 'b0cfc575-ebb7-45d2-a1c8-9072dba30dcc',\n",
       "       'tool_call_id': 'call_oVYy1SsKAsywGhoOxtO5h1Br',\n",
       "       'artifact': None,\n",
       "       'status': 'success'}]}}],\n",
       "  'metadata': {'user-agent': 'langgraph-sdk-py/0.1.70',\n",
       "   'x-request-id': 'ad87d3e2-185c-44af-b47a-13ca2e7c1579',\n",
       "   'langgraph_auth_user': None,\n",
       "   'langgraph_auth_user_id': '',\n",
       "   'langgraph_auth_permissions': [],\n",
       "   'langgraph_request_id': 'ad87d3e2-185c-44af-b47a-13ca2e7c1579',\n",
       "   'graph_id': 'agent',\n",
       "   'assistant_id': 'fe096781-5601-53d2-b2f6-0d3403f7e9ca',\n",
       "   'user_id': '',\n",
       "   'created_by': 'system',\n",
       "   'run_attempt': 1,\n",
       "   'langgraph_version': '0.4.7',\n",
       "   'langgraph_plan': 'developer',\n",
       "   'langgraph_host': 'self-hosted',\n",
       "   'langgraph_api_url': 'http://127.0.0.1:2024',\n",
       "   'run_id': '1f03a51e-6996-6bc1-a537-a1b28875f2c4',\n",
       "   'thread_id': '0aeaf43b-34fd-4015-a390-9bc769ff4d60',\n",
       "   'source': 'loop',\n",
       "   'writes': {'assistant': {'messages': [{'content': '',\n",
       "       'additional_kwargs': {'tool_calls': [{'id': 'call_oVYy1SsKAsywGhoOxtO5h1Br',\n",
       "          'function': {'arguments': '{\"a\":2,\"b\":3}', 'name': 'multiply'},\n",
       "          'type': 'function'}],\n",
       "        'refusal': None},\n",
       "       'response_metadata': {'token_usage': {'completion_tokens': 17,\n",
       "         'prompt_tokens': 134,\n",
       "         'total_tokens': 151,\n",
       "         'completion_tokens_details': {'accepted_prediction_tokens': 0,\n",
       "          'audio_tokens': 0,\n",
       "          'reasoning_tokens': 0,\n",
       "          'rejected_prediction_tokens': 0},\n",
       "         'prompt_tokens_details': {'audio_tokens': 0, 'cached_tokens': 0}},\n",
       "        'model_name': 'gpt-4o-2024-08-06',\n",
       "        'system_fingerprint': 'fp_07871e2ad8',\n",
       "        'id': 'chatcmpl-BbVMX2gvagPTsDUabAsWnj79ukRKJ',\n",
       "        'service_tier': 'default',\n",
       "        'finish_reason': 'tool_calls',\n",
       "        'logprobs': None},\n",
       "       'type': 'ai',\n",
       "       'name': None,\n",
       "       'id': 'run--88924948-461d-47a5-aa98-79efdda01b87-0',\n",
       "       'example': False,\n",
       "       'tool_calls': [{'name': 'multiply',\n",
       "         'args': {'a': 2, 'b': 3},\n",
       "         'id': 'call_oVYy1SsKAsywGhoOxtO5h1Br',\n",
       "         'type': 'tool_call'}],\n",
       "       'invalid_tool_calls': [],\n",
       "       'usage_metadata': {'input_tokens': 134,\n",
       "        'output_tokens': 17,\n",
       "        'total_tokens': 151,\n",
       "        'input_token_details': {'audio': 0, 'cache_read': 0},\n",
       "        'output_token_details': {'audio': 0, 'reasoning': 0}}}]}},\n",
       "   'step': 1,\n",
       "   'parents': {}},\n",
       "  'created_at': '2025-05-26T16:53:12.709527+00:00',\n",
       "  'checkpoint': {'checkpoint_id': '1f03a51e-92a0-6fe6-8001-c70f323ead0d',\n",
       "   'thread_id': '0aeaf43b-34fd-4015-a390-9bc769ff4d60',\n",
       "   'checkpoint_ns': ''},\n",
       "  'parent_checkpoint': {'checkpoint_id': '1f03a51e-77bd-61dd-8000-90819442684f',\n",
       "   'thread_id': '0aeaf43b-34fd-4015-a390-9bc769ff4d60',\n",
       "   'checkpoint_ns': ''},\n",
       "  'checkpoint_id': '1f03a51e-92a0-6fe6-8001-c70f323ead0d',\n",
       "  'parent_checkpoint_id': '1f03a51e-77bd-61dd-8000-90819442684f'},\n",
       " {'values': {'messages': [{'content': 'Multiply 2 and 3',\n",
       "     'additional_kwargs': {},\n",
       "     'response_metadata': {},\n",
       "     'type': 'human',\n",
       "     'name': None,\n",
       "     'id': '7b6498f0-41aa-446d-abcd-7d84af492bf8',\n",
       "     'example': False}]},\n",
       "  'next': ['assistant'],\n",
       "  'tasks': [{'id': '286ff6e0-9cfb-c762-f2ad-4f85bc6ac1be',\n",
       "    'name': 'assistant',\n",
       "    'path': ['__pregel_pull', 'assistant'],\n",
       "    'error': None,\n",
       "    'interrupts': [],\n",
       "    'checkpoint': None,\n",
       "    'state': None,\n",
       "    'result': {'messages': [{'content': '',\n",
       "       'additional_kwargs': {'tool_calls': [{'id': 'call_oVYy1SsKAsywGhoOxtO5h1Br',\n",
       "          'function': {'arguments': '{\"a\":2,\"b\":3}', 'name': 'multiply'},\n",
       "          'type': 'function'}],\n",
       "        'refusal': None},\n",
       "       'response_metadata': {'token_usage': {'completion_tokens': 17,\n",
       "         'prompt_tokens': 134,\n",
       "         'total_tokens': 151,\n",
       "         'completion_tokens_details': {'accepted_prediction_tokens': 0,\n",
       "          'audio_tokens': 0,\n",
       "          'reasoning_tokens': 0,\n",
       "          'rejected_prediction_tokens': 0},\n",
       "         'prompt_tokens_details': {'audio_tokens': 0, 'cached_tokens': 0}},\n",
       "        'model_name': 'gpt-4o-2024-08-06',\n",
       "        'system_fingerprint': 'fp_07871e2ad8',\n",
       "        'id': 'chatcmpl-BbVMX2gvagPTsDUabAsWnj79ukRKJ',\n",
       "        'service_tier': 'default',\n",
       "        'finish_reason': 'tool_calls',\n",
       "        'logprobs': None},\n",
       "       'type': 'ai',\n",
       "       'name': None,\n",
       "       'id': 'run--88924948-461d-47a5-aa98-79efdda01b87-0',\n",
       "       'example': False,\n",
       "       'tool_calls': [{'name': 'multiply',\n",
       "         'args': {'a': 2, 'b': 3},\n",
       "         'id': 'call_oVYy1SsKAsywGhoOxtO5h1Br',\n",
       "         'type': 'tool_call'}],\n",
       "       'invalid_tool_calls': [],\n",
       "       'usage_metadata': {'input_tokens': 134,\n",
       "        'output_tokens': 17,\n",
       "        'total_tokens': 151,\n",
       "        'input_token_details': {'audio': 0, 'cache_read': 0},\n",
       "        'output_token_details': {'audio': 0, 'reasoning': 0}}}]}}],\n",
       "  'metadata': {'user-agent': 'langgraph-sdk-py/0.1.70',\n",
       "   'x-request-id': 'ad87d3e2-185c-44af-b47a-13ca2e7c1579',\n",
       "   'langgraph_auth_user': None,\n",
       "   'langgraph_auth_user_id': '',\n",
       "   'langgraph_auth_permissions': [],\n",
       "   'langgraph_request_id': 'ad87d3e2-185c-44af-b47a-13ca2e7c1579',\n",
       "   'graph_id': 'agent',\n",
       "   'assistant_id': 'fe096781-5601-53d2-b2f6-0d3403f7e9ca',\n",
       "   'user_id': '',\n",
       "   'created_by': 'system',\n",
       "   'run_attempt': 1,\n",
       "   'langgraph_version': '0.4.7',\n",
       "   'langgraph_plan': 'developer',\n",
       "   'langgraph_host': 'self-hosted',\n",
       "   'langgraph_api_url': 'http://127.0.0.1:2024',\n",
       "   'run_id': '1f03a51e-6996-6bc1-a537-a1b28875f2c4',\n",
       "   'thread_id': '0aeaf43b-34fd-4015-a390-9bc769ff4d60',\n",
       "   'source': 'loop',\n",
       "   'writes': None,\n",
       "   'step': 0,\n",
       "   'parents': {}},\n",
       "  'created_at': '2025-05-26T16:53:09.889890+00:00',\n",
       "  'checkpoint': {'checkpoint_id': '1f03a51e-77bd-61dd-8000-90819442684f',\n",
       "   'thread_id': '0aeaf43b-34fd-4015-a390-9bc769ff4d60',\n",
       "   'checkpoint_ns': ''},\n",
       "  'parent_checkpoint': {'checkpoint_id': '1f03a51e-77ba-6a90-bfff-2dfa9550f718',\n",
       "   'thread_id': '0aeaf43b-34fd-4015-a390-9bc769ff4d60',\n",
       "   'checkpoint_ns': ''},\n",
       "  'checkpoint_id': '1f03a51e-77bd-61dd-8000-90819442684f',\n",
       "  'parent_checkpoint_id': '1f03a51e-77ba-6a90-bfff-2dfa9550f718'},\n",
       " {'values': {'messages': []},\n",
       "  'next': ['__start__'],\n",
       "  'tasks': [{'id': '28bc3b7b-c631-0573-10bd-b30eec9ed7f5',\n",
       "    'name': '__start__',\n",
       "    'path': ['__pregel_pull', '__start__'],\n",
       "    'error': None,\n",
       "    'interrupts': [],\n",
       "    'checkpoint': None,\n",
       "    'state': None,\n",
       "    'result': {'messages': [{'content': 'Multiply 2 and 3',\n",
       "       'additional_kwargs': {},\n",
       "       'response_metadata': {},\n",
       "       'type': 'human',\n",
       "       'name': None,\n",
       "       'id': None,\n",
       "       'example': False}]}}],\n",
       "  'metadata': {'user-agent': 'langgraph-sdk-py/0.1.70',\n",
       "   'x-request-id': 'ad87d3e2-185c-44af-b47a-13ca2e7c1579',\n",
       "   'langgraph_auth_user': None,\n",
       "   'langgraph_auth_user_id': '',\n",
       "   'langgraph_auth_permissions': [],\n",
       "   'langgraph_request_id': 'ad87d3e2-185c-44af-b47a-13ca2e7c1579',\n",
       "   'graph_id': 'agent',\n",
       "   'assistant_id': 'fe096781-5601-53d2-b2f6-0d3403f7e9ca',\n",
       "   'user_id': '',\n",
       "   'created_by': 'system',\n",
       "   'run_attempt': 1,\n",
       "   'langgraph_version': '0.4.7',\n",
       "   'langgraph_plan': 'developer',\n",
       "   'langgraph_host': 'self-hosted',\n",
       "   'langgraph_api_url': 'http://127.0.0.1:2024',\n",
       "   'run_id': '1f03a51e-6996-6bc1-a537-a1b28875f2c4',\n",
       "   'thread_id': '0aeaf43b-34fd-4015-a390-9bc769ff4d60',\n",
       "   'source': 'input',\n",
       "   'writes': {'__start__': {'messages': [{'content': 'Multiply 2 and 3',\n",
       "       'additional_kwargs': {},\n",
       "       'response_metadata': {},\n",
       "       'type': 'human',\n",
       "       'name': None,\n",
       "       'id': None,\n",
       "       'example': False}]}},\n",
       "   'step': -1,\n",
       "   'parents': {}},\n",
       "  'created_at': '2025-05-26T16:53:09.888884+00:00',\n",
       "  'checkpoint': {'checkpoint_id': '1f03a51e-77ba-6a90-bfff-2dfa9550f718',\n",
       "   'thread_id': '0aeaf43b-34fd-4015-a390-9bc769ff4d60',\n",
       "   'checkpoint_ns': ''},\n",
       "  'parent_checkpoint': None,\n",
       "  'checkpoint_id': '1f03a51e-77ba-6a90-bfff-2dfa9550f718',\n",
       "  'parent_checkpoint_id': None}]"
      ]
     },
     "execution_count": 90,
     "metadata": {},
     "output_type": "execute_result"
    }
   ],
   "source": [
    "states"
   ]
  },
  {
   "cell_type": "code",
   "execution_count": 91,
   "metadata": {},
   "outputs": [],
   "source": [
    "to_replay = states[-2]"
   ]
  },
  {
   "cell_type": "code",
   "execution_count": 92,
   "metadata": {},
   "outputs": [
    {
     "data": {
      "text/plain": [
       "{'values': {'messages': [{'content': 'Multiply 2 and 3',\n",
       "    'additional_kwargs': {},\n",
       "    'response_metadata': {},\n",
       "    'type': 'human',\n",
       "    'name': None,\n",
       "    'id': '7b6498f0-41aa-446d-abcd-7d84af492bf8',\n",
       "    'example': False}]},\n",
       " 'next': ['assistant'],\n",
       " 'tasks': [{'id': '286ff6e0-9cfb-c762-f2ad-4f85bc6ac1be',\n",
       "   'name': 'assistant',\n",
       "   'path': ['__pregel_pull', 'assistant'],\n",
       "   'error': None,\n",
       "   'interrupts': [],\n",
       "   'checkpoint': None,\n",
       "   'state': None,\n",
       "   'result': {'messages': [{'content': '',\n",
       "      'additional_kwargs': {'tool_calls': [{'id': 'call_oVYy1SsKAsywGhoOxtO5h1Br',\n",
       "         'function': {'arguments': '{\"a\":2,\"b\":3}', 'name': 'multiply'},\n",
       "         'type': 'function'}],\n",
       "       'refusal': None},\n",
       "      'response_metadata': {'token_usage': {'completion_tokens': 17,\n",
       "        'prompt_tokens': 134,\n",
       "        'total_tokens': 151,\n",
       "        'completion_tokens_details': {'accepted_prediction_tokens': 0,\n",
       "         'audio_tokens': 0,\n",
       "         'reasoning_tokens': 0,\n",
       "         'rejected_prediction_tokens': 0},\n",
       "        'prompt_tokens_details': {'audio_tokens': 0, 'cached_tokens': 0}},\n",
       "       'model_name': 'gpt-4o-2024-08-06',\n",
       "       'system_fingerprint': 'fp_07871e2ad8',\n",
       "       'id': 'chatcmpl-BbVMX2gvagPTsDUabAsWnj79ukRKJ',\n",
       "       'service_tier': 'default',\n",
       "       'finish_reason': 'tool_calls',\n",
       "       'logprobs': None},\n",
       "      'type': 'ai',\n",
       "      'name': None,\n",
       "      'id': 'run--88924948-461d-47a5-aa98-79efdda01b87-0',\n",
       "      'example': False,\n",
       "      'tool_calls': [{'name': 'multiply',\n",
       "        'args': {'a': 2, 'b': 3},\n",
       "        'id': 'call_oVYy1SsKAsywGhoOxtO5h1Br',\n",
       "        'type': 'tool_call'}],\n",
       "      'invalid_tool_calls': [],\n",
       "      'usage_metadata': {'input_tokens': 134,\n",
       "       'output_tokens': 17,\n",
       "       'total_tokens': 151,\n",
       "       'input_token_details': {'audio': 0, 'cache_read': 0},\n",
       "       'output_token_details': {'audio': 0, 'reasoning': 0}}}]}}],\n",
       " 'metadata': {'user-agent': 'langgraph-sdk-py/0.1.70',\n",
       "  'x-request-id': 'ad87d3e2-185c-44af-b47a-13ca2e7c1579',\n",
       "  'langgraph_auth_user': None,\n",
       "  'langgraph_auth_user_id': '',\n",
       "  'langgraph_auth_permissions': [],\n",
       "  'langgraph_request_id': 'ad87d3e2-185c-44af-b47a-13ca2e7c1579',\n",
       "  'graph_id': 'agent',\n",
       "  'assistant_id': 'fe096781-5601-53d2-b2f6-0d3403f7e9ca',\n",
       "  'user_id': '',\n",
       "  'created_by': 'system',\n",
       "  'run_attempt': 1,\n",
       "  'langgraph_version': '0.4.7',\n",
       "  'langgraph_plan': 'developer',\n",
       "  'langgraph_host': 'self-hosted',\n",
       "  'langgraph_api_url': 'http://127.0.0.1:2024',\n",
       "  'run_id': '1f03a51e-6996-6bc1-a537-a1b28875f2c4',\n",
       "  'thread_id': '0aeaf43b-34fd-4015-a390-9bc769ff4d60',\n",
       "  'source': 'loop',\n",
       "  'writes': None,\n",
       "  'step': 0,\n",
       "  'parents': {}},\n",
       " 'created_at': '2025-05-26T16:53:09.889890+00:00',\n",
       " 'checkpoint': {'checkpoint_id': '1f03a51e-77bd-61dd-8000-90819442684f',\n",
       "  'thread_id': '0aeaf43b-34fd-4015-a390-9bc769ff4d60',\n",
       "  'checkpoint_ns': ''},\n",
       " 'parent_checkpoint': {'checkpoint_id': '1f03a51e-77ba-6a90-bfff-2dfa9550f718',\n",
       "  'thread_id': '0aeaf43b-34fd-4015-a390-9bc769ff4d60',\n",
       "  'checkpoint_ns': ''},\n",
       " 'checkpoint_id': '1f03a51e-77bd-61dd-8000-90819442684f',\n",
       " 'parent_checkpoint_id': '1f03a51e-77ba-6a90-bfff-2dfa9550f718'}"
      ]
     },
     "execution_count": 92,
     "metadata": {},
     "output_type": "execute_result"
    }
   ],
   "source": [
    "to_replay"
   ]
  },
  {
   "cell_type": "code",
   "execution_count": 93,
   "metadata": {},
   "outputs": [
    {
     "name": "stdout",
     "output_type": "stream",
     "text": [
      "Receiving new event of type: metadata...\n",
      "{'run_id': '1f03a51e-9ea8-6e65-b020-2f8fc3dff25b', 'attempt': 1}\n",
      "\n",
      "\n",
      "\n",
      "Receiving new event of type: values...\n",
      "{'messages': [{'content': 'Multiply 2 and 3', 'additional_kwargs': {}, 'response_metadata': {}, 'type': 'human', 'name': None, 'id': '7b6498f0-41aa-446d-abcd-7d84af492bf8', 'example': False}]}\n",
      "\n",
      "\n",
      "\n",
      "Receiving new event of type: values...\n",
      "{'messages': [{'content': 'Multiply 2 and 3', 'additional_kwargs': {}, 'response_metadata': {}, 'type': 'human', 'name': None, 'id': '7b6498f0-41aa-446d-abcd-7d84af492bf8', 'example': False}, {'content': '', 'additional_kwargs': {'tool_calls': [{'id': 'call_4Io2fEfiFSKlxzVw8U8rF4sa', 'function': {'arguments': '{\"a\":2,\"b\":3}', 'name': 'multiply'}, 'type': 'function'}], 'refusal': None}, 'response_metadata': {'token_usage': {'completion_tokens': 17, 'prompt_tokens': 134, 'total_tokens': 151, 'completion_tokens_details': {'accepted_prediction_tokens': 0, 'audio_tokens': 0, 'reasoning_tokens': 0, 'rejected_prediction_tokens': 0}, 'prompt_tokens_details': {'audio_tokens': 0, 'cached_tokens': 0}}, 'model_name': 'gpt-4o-2024-08-06', 'system_fingerprint': 'fp_07871e2ad8', 'id': 'chatcmpl-BbVMc82B5OtDFU5C0xQmfAnCBGKe6', 'service_tier': 'default', 'finish_reason': 'tool_calls', 'logprobs': None}, 'type': 'ai', 'name': None, 'id': 'run--f2e6869b-b186-41ce-ab3d-0edd72756a56-0', 'example': False, 'tool_calls': [{'name': 'multiply', 'args': {'a': 2, 'b': 3}, 'id': 'call_4Io2fEfiFSKlxzVw8U8rF4sa', 'type': 'tool_call'}], 'invalid_tool_calls': [], 'usage_metadata': {'input_tokens': 134, 'output_tokens': 17, 'total_tokens': 151, 'input_token_details': {'audio': 0, 'cache_read': 0}, 'output_token_details': {'audio': 0, 'reasoning': 0}}}]}\n",
      "\n",
      "\n",
      "\n",
      "Receiving new event of type: values...\n",
      "{'messages': [{'content': 'Multiply 2 and 3', 'additional_kwargs': {}, 'response_metadata': {}, 'type': 'human', 'name': None, 'id': '7b6498f0-41aa-446d-abcd-7d84af492bf8', 'example': False}, {'content': '', 'additional_kwargs': {'tool_calls': [{'id': 'call_4Io2fEfiFSKlxzVw8U8rF4sa', 'function': {'arguments': '{\"a\":2,\"b\":3}', 'name': 'multiply'}, 'type': 'function'}], 'refusal': None}, 'response_metadata': {'token_usage': {'completion_tokens': 17, 'prompt_tokens': 134, 'total_tokens': 151, 'completion_tokens_details': {'accepted_prediction_tokens': 0, 'audio_tokens': 0, 'reasoning_tokens': 0, 'rejected_prediction_tokens': 0}, 'prompt_tokens_details': {'audio_tokens': 0, 'cached_tokens': 0}}, 'model_name': 'gpt-4o-2024-08-06', 'system_fingerprint': 'fp_07871e2ad8', 'id': 'chatcmpl-BbVMc82B5OtDFU5C0xQmfAnCBGKe6', 'service_tier': 'default', 'finish_reason': 'tool_calls', 'logprobs': None}, 'type': 'ai', 'name': None, 'id': 'run--f2e6869b-b186-41ce-ab3d-0edd72756a56-0', 'example': False, 'tool_calls': [{'name': 'multiply', 'args': {'a': 2, 'b': 3}, 'id': 'call_4Io2fEfiFSKlxzVw8U8rF4sa', 'type': 'tool_call'}], 'invalid_tool_calls': [], 'usage_metadata': {'input_tokens': 134, 'output_tokens': 17, 'total_tokens': 151, 'input_token_details': {'audio': 0, 'cache_read': 0}, 'output_token_details': {'audio': 0, 'reasoning': 0}}}, {'content': '6', 'additional_kwargs': {}, 'response_metadata': {}, 'type': 'tool', 'name': 'multiply', 'id': '7c9fa204-262a-4f4d-97b0-31a79e96e475', 'tool_call_id': 'call_4Io2fEfiFSKlxzVw8U8rF4sa', 'artifact': None, 'status': 'success'}]}\n",
      "\n",
      "\n",
      "\n",
      "Receiving new event of type: values...\n",
      "{'messages': [{'content': 'Multiply 2 and 3', 'additional_kwargs': {}, 'response_metadata': {}, 'type': 'human', 'name': None, 'id': '7b6498f0-41aa-446d-abcd-7d84af492bf8', 'example': False}, {'content': '', 'additional_kwargs': {'tool_calls': [{'id': 'call_4Io2fEfiFSKlxzVw8U8rF4sa', 'function': {'arguments': '{\"a\":2,\"b\":3}', 'name': 'multiply'}, 'type': 'function'}], 'refusal': None}, 'response_metadata': {'token_usage': {'completion_tokens': 17, 'prompt_tokens': 134, 'total_tokens': 151, 'completion_tokens_details': {'accepted_prediction_tokens': 0, 'audio_tokens': 0, 'reasoning_tokens': 0, 'rejected_prediction_tokens': 0}, 'prompt_tokens_details': {'audio_tokens': 0, 'cached_tokens': 0}}, 'model_name': 'gpt-4o-2024-08-06', 'system_fingerprint': 'fp_07871e2ad8', 'id': 'chatcmpl-BbVMc82B5OtDFU5C0xQmfAnCBGKe6', 'service_tier': 'default', 'finish_reason': 'tool_calls', 'logprobs': None}, 'type': 'ai', 'name': None, 'id': 'run--f2e6869b-b186-41ce-ab3d-0edd72756a56-0', 'example': False, 'tool_calls': [{'name': 'multiply', 'args': {'a': 2, 'b': 3}, 'id': 'call_4Io2fEfiFSKlxzVw8U8rF4sa', 'type': 'tool_call'}], 'invalid_tool_calls': [], 'usage_metadata': {'input_tokens': 134, 'output_tokens': 17, 'total_tokens': 151, 'input_token_details': {'audio': 0, 'cache_read': 0}, 'output_token_details': {'audio': 0, 'reasoning': 0}}}, {'content': '6', 'additional_kwargs': {}, 'response_metadata': {}, 'type': 'tool', 'name': 'multiply', 'id': '7c9fa204-262a-4f4d-97b0-31a79e96e475', 'tool_call_id': 'call_4Io2fEfiFSKlxzVw8U8rF4sa', 'artifact': None, 'status': 'success'}, {'content': 'The result of multiplying 2 and 3 is 6.', 'additional_kwargs': {'refusal': None}, 'response_metadata': {'token_usage': {'completion_tokens': 14, 'prompt_tokens': 159, 'total_tokens': 173, 'completion_tokens_details': {'accepted_prediction_tokens': 0, 'audio_tokens': 0, 'reasoning_tokens': 0, 'rejected_prediction_tokens': 0}, 'prompt_tokens_details': {'audio_tokens': 0, 'cached_tokens': 0}}, 'model_name': 'gpt-4o-2024-08-06', 'system_fingerprint': 'fp_07871e2ad8', 'id': 'chatcmpl-BbVMdtfkqMHEPHx2B15ZalfvE9jLv', 'service_tier': 'default', 'finish_reason': 'stop', 'logprobs': None}, 'type': 'ai', 'name': None, 'id': 'run--dcd01a66-e7f3-4f90-8919-7fe844c6a42d-0', 'example': False, 'tool_calls': [], 'invalid_tool_calls': [], 'usage_metadata': {'input_tokens': 159, 'output_tokens': 14, 'total_tokens': 173, 'input_token_details': {'audio': 0, 'cache_read': 0}, 'output_token_details': {'audio': 0, 'reasoning': 0}}}]}\n",
      "\n",
      "\n",
      "\n"
     ]
    }
   ],
   "source": [
    "async for chunk in client.runs.stream(thread_id=thread['thread_id'], assistant_id=\"agent\", input=None, checkpoint_id=to_replay[\"checkpoint_id\"], stream_mode=\"values\"):\n",
    "    print(f\"Receiving new event of type: {chunk.event}...\")\n",
    "    print(chunk.data)\n",
    "    print(\"\\n\\n\")"
   ]
  },
  {
   "cell_type": "code",
   "execution_count": 94,
   "metadata": {},
   "outputs": [
    {
     "name": "stdout",
     "output_type": "stream",
     "text": [
      "--------------------Assistant Node--------------------\n",
      "{'content': '', 'additional_kwargs': {'tool_calls': [{'id': 'call_TfHGJyPwZhNjs7WOiB8093x0', 'function': {'arguments': '{\"a\":2,\"b\":3}', 'name': 'multiply'}, 'type': 'function'}], 'refusal': None}, 'response_metadata': {'token_usage': {'completion_tokens': 17, 'prompt_tokens': 134, 'total_tokens': 151, 'completion_tokens_details': {'accepted_prediction_tokens': 0, 'audio_tokens': 0, 'reasoning_tokens': 0, 'rejected_prediction_tokens': 0}, 'prompt_tokens_details': {'audio_tokens': 0, 'cached_tokens': 0}}, 'model_name': 'gpt-4o-2024-08-06', 'system_fingerprint': 'fp_07871e2ad8', 'id': 'chatcmpl-BbVMgPsgeKeHYIEQ8HqWz8zp8WOVa', 'service_tier': 'default', 'finish_reason': 'tool_calls', 'logprobs': None}, 'type': 'ai', 'name': None, 'id': 'run--9f3443ce-d012-44d1-a4e9-2a1e076ef84b-0', 'example': False, 'tool_calls': [{'name': 'multiply', 'args': {'a': 2, 'b': 3}, 'id': 'call_TfHGJyPwZhNjs7WOiB8093x0', 'type': 'tool_call'}], 'invalid_tool_calls': [], 'usage_metadata': {'input_tokens': 134, 'output_tokens': 17, 'total_tokens': 151, 'input_token_details': {'audio': 0, 'cache_read': 0}, 'output_token_details': {'audio': 0, 'reasoning': 0}}}\n",
      "--------------------Tools Node--------------------\n",
      "{'content': '6', 'additional_kwargs': {}, 'response_metadata': {}, 'type': 'tool', 'name': 'multiply', 'id': '257cbf8d-044e-4f75-869f-89a54840b8ec', 'tool_call_id': 'call_TfHGJyPwZhNjs7WOiB8093x0', 'artifact': None, 'status': 'success'}\n",
      "--------------------Assistant Node--------------------\n",
      "{'content': 'The result of multiplying 2 and 3 is 6.', 'additional_kwargs': {'refusal': None}, 'response_metadata': {'token_usage': {'completion_tokens': 14, 'prompt_tokens': 159, 'total_tokens': 173, 'completion_tokens_details': {'accepted_prediction_tokens': 0, 'audio_tokens': 0, 'reasoning_tokens': 0, 'rejected_prediction_tokens': 0}, 'prompt_tokens_details': {'audio_tokens': 0, 'cached_tokens': 0}}, 'model_name': 'gpt-4o-2024-08-06', 'system_fingerprint': 'fp_07871e2ad8', 'id': 'chatcmpl-BbVMhiATeIRt9howbLlAohi2FDPSE', 'service_tier': 'default', 'finish_reason': 'stop', 'logprobs': None}, 'type': 'ai', 'name': None, 'id': 'run--3c0dcbf1-82d5-4908-a537-c39f74a2c796-0', 'example': False, 'tool_calls': [], 'invalid_tool_calls': [], 'usage_metadata': {'input_tokens': 159, 'output_tokens': 14, 'total_tokens': 173, 'input_token_details': {'audio': 0, 'cache_read': 0}, 'output_token_details': {'audio': 0, 'reasoning': 0}}}\n"
     ]
    }
   ],
   "source": [
    "async for chunk in client.runs.stream(\n",
    "    thread[\"thread_id\"],\n",
    "    assistant_id=\"agent\",\n",
    "    input=None,\n",
    "    stream_mode=\"updates\",\n",
    "    checkpoint_id=to_replay['checkpoint_id']\n",
    "):\n",
    "    if chunk.data:\n",
    "        assisant_node = chunk.data.get('assistant', {}).get('messages', [])\n",
    "        tool_node = chunk.data.get('tools', {}).get('messages', [])\n",
    "        if assisant_node:\n",
    "            print(\"-\" * 20+\"Assistant Node\"+\"-\" * 20)\n",
    "            print(assisant_node[-1])\n",
    "        elif tool_node:\n",
    "            print(\"-\" * 20+\"Tools Node\"+\"-\" * 20)\n",
    "            print(tool_node[-1])"
   ]
  },
  {
   "cell_type": "code",
   "execution_count": 95,
   "metadata": {},
   "outputs": [
    {
     "name": "stdout",
     "output_type": "stream",
     "text": [
      "--------------------Assistant Node--------------------\n",
      "{'content': '', 'additional_kwargs': {'tool_calls': [{'id': 'call_elvagg9e1N6JSvEEPk2LKwMS', 'function': {'arguments': '{\"a\":2,\"b\":3}', 'name': 'multiply'}, 'type': 'function'}], 'refusal': None}, 'response_metadata': {'token_usage': {'completion_tokens': 17, 'prompt_tokens': 134, 'total_tokens': 151, 'completion_tokens_details': {'accepted_prediction_tokens': 0, 'audio_tokens': 0, 'reasoning_tokens': 0, 'rejected_prediction_tokens': 0}, 'prompt_tokens_details': {'audio_tokens': 0, 'cached_tokens': 0}}, 'model_name': 'gpt-4o-2024-08-06', 'system_fingerprint': 'fp_07871e2ad8', 'id': 'chatcmpl-BbVMjGNz3KqU0tFkTfaOvhIAvIOd2', 'service_tier': 'default', 'finish_reason': 'tool_calls', 'logprobs': None}, 'type': 'ai', 'name': None, 'id': 'run--beb808a0-5fff-4acb-8958-269d31e09f04-0', 'example': False, 'tool_calls': [{'name': 'multiply', 'args': {'a': 2, 'b': 3}, 'id': 'call_elvagg9e1N6JSvEEPk2LKwMS', 'type': 'tool_call'}], 'invalid_tool_calls': [], 'usage_metadata': {'input_tokens': 134, 'output_tokens': 17, 'total_tokens': 151, 'input_token_details': {'audio': 0, 'cache_read': 0}, 'output_token_details': {'audio': 0, 'reasoning': 0}}}\n",
      "--------------------Tools Node--------------------\n",
      "{'content': '6', 'additional_kwargs': {}, 'response_metadata': {}, 'type': 'tool', 'name': 'multiply', 'id': 'e1af5fbc-6a05-4824-94c8-f77bce72700c', 'tool_call_id': 'call_elvagg9e1N6JSvEEPk2LKwMS', 'artifact': None, 'status': 'success'}\n",
      "--------------------Assistant Node--------------------\n",
      "{'content': 'The result of multiplying 2 and 3 is 6.', 'additional_kwargs': {'refusal': None}, 'response_metadata': {'token_usage': {'completion_tokens': 14, 'prompt_tokens': 159, 'total_tokens': 173, 'completion_tokens_details': {'accepted_prediction_tokens': 0, 'audio_tokens': 0, 'reasoning_tokens': 0, 'rejected_prediction_tokens': 0}, 'prompt_tokens_details': {'audio_tokens': 0, 'cached_tokens': 0}}, 'model_name': 'gpt-4o-2024-08-06', 'system_fingerprint': 'fp_07871e2ad8', 'id': 'chatcmpl-BbVMkzAjPbPgXjY39OEqSLK4Sglse', 'service_tier': 'default', 'finish_reason': 'stop', 'logprobs': None}, 'type': 'ai', 'name': None, 'id': 'run--2b044325-d180-491b-8906-3f9b45da1f33-0', 'example': False, 'tool_calls': [], 'invalid_tool_calls': [], 'usage_metadata': {'input_tokens': 159, 'output_tokens': 14, 'total_tokens': 173, 'input_token_details': {'audio': 0, 'cache_read': 0}, 'output_token_details': {'audio': 0, 'reasoning': 0}}}\n"
     ]
    }
   ],
   "source": [
    "initial_input = {\"messages\": HumanMessage(content=\"Multiply 2 and 3\")}\n",
    "thread = await client.threads.create()\n",
    "async for chunk in client.runs.stream(\n",
    "    thread[\"thread_id\"],\n",
    "    assistant_id=\"agent\",\n",
    "    input=initial_input,\n",
    "    stream_mode=\"updates\",\n",
    "):\n",
    "    if chunk.data:\n",
    "        assisant_node = chunk.data.get('assistant', {}).get('messages', [])\n",
    "        tool_node = chunk.data.get('tools', {}).get('messages', [])\n",
    "        if assisant_node:\n",
    "            print(\"-\" * 20+\"Assistant Node\"+\"-\" * 20)\n",
    "            print(assisant_node[-1])\n",
    "        elif tool_node:\n",
    "            print(\"-\" * 20+\"Tools Node\"+\"-\" * 20)\n",
    "            print(tool_node[-1])"
   ]
  },
  {
   "cell_type": "code",
   "execution_count": 96,
   "metadata": {},
   "outputs": [
    {
     "data": {
      "text/plain": [
       "{'messages': [{'content': 'Multiply 2 and 3',\n",
       "   'additional_kwargs': {},\n",
       "   'response_metadata': {},\n",
       "   'type': 'human',\n",
       "   'name': None,\n",
       "   'id': '43405952-3393-4fe4-b98c-b6668ab9c87f',\n",
       "   'example': False}]}"
      ]
     },
     "execution_count": 96,
     "metadata": {},
     "output_type": "execute_result"
    }
   ],
   "source": [
    "states = await client.threads.get_history(thread['thread_id'])\n",
    "to_fork = states[-2]\n",
    "to_fork['values']"
   ]
  },
  {
   "cell_type": "code",
   "execution_count": 97,
   "metadata": {},
   "outputs": [
    {
     "data": {
      "text/plain": [
       "'43405952-3393-4fe4-b98c-b6668ab9c87f'"
      ]
     },
     "execution_count": 97,
     "metadata": {},
     "output_type": "execute_result"
    }
   ],
   "source": [
    "to_fork['values']['messages'][0]['id']"
   ]
  },
  {
   "cell_type": "code",
   "execution_count": 98,
   "metadata": {},
   "outputs": [
    {
     "data": {
      "text/plain": [
       "['assistant']"
      ]
     },
     "execution_count": 98,
     "metadata": {},
     "output_type": "execute_result"
    }
   ],
   "source": [
    "to_fork['next']"
   ]
  },
  {
   "cell_type": "code",
   "execution_count": 99,
   "metadata": {},
   "outputs": [
    {
     "data": {
      "text/plain": [
       "'1f03a51e-fd61-6b66-8000-dde82f7b4d65'"
      ]
     },
     "execution_count": 99,
     "metadata": {},
     "output_type": "execute_result"
    }
   ],
   "source": [
    "to_fork['checkpoint_id']"
   ]
  },
  {
   "cell_type": "code",
   "execution_count": 109,
   "metadata": {},
   "outputs": [],
   "source": [
    "fork_input = {\"messages\": HumanMessage(content=\"Multiply 3 and 4\", id=to_fork['values']['messages'][0]['id'])}"
   ]
  },
  {
   "cell_type": "code",
   "execution_count": 110,
   "metadata": {},
   "outputs": [],
   "source": [
    "fork_config = await client.threads.update_state(thread['thread_id'], fork_input, checkpoint_id=to_fork['checkpoint_id'])"
   ]
  },
  {
   "cell_type": "code",
   "execution_count": 111,
   "metadata": {},
   "outputs": [
    {
     "data": {
      "text/plain": [
       "{'checkpoint': {'thread_id': '6d238a34-43e0-4c6d-9f7e-1a14d82e1857',\n",
       "  'checkpoint_ns': '',\n",
       "  'checkpoint_id': '1f03a52e-462f-650e-8001-a02ce94de455'},\n",
       " 'configurable': {'thread_id': '6d238a34-43e0-4c6d-9f7e-1a14d82e1857',\n",
       "  'checkpoint_ns': '',\n",
       "  'checkpoint_id': '1f03a52e-462f-650e-8001-a02ce94de455'},\n",
       " 'checkpoint_id': '1f03a52e-462f-650e-8001-a02ce94de455'}"
      ]
     },
     "execution_count": 111,
     "metadata": {},
     "output_type": "execute_result"
    }
   ],
   "source": [
    "fork_config"
   ]
  },
  {
   "cell_type": "code",
   "execution_count": 112,
   "metadata": {},
   "outputs": [
    {
     "data": {
      "text/plain": [
       "{'values': {'messages': [{'content': 'Multiply 3 and 4',\n",
       "    'additional_kwargs': {},\n",
       "    'response_metadata': {},\n",
       "    'type': 'human',\n",
       "    'name': None,\n",
       "    'id': '43405952-3393-4fe4-b98c-b6668ab9c87f',\n",
       "    'example': False}]},\n",
       " 'next': ['assistant'],\n",
       " 'tasks': [{'id': 'd4a9db52-4253-957b-a456-350bbbbd68b5',\n",
       "   'name': 'assistant',\n",
       "   'path': ['__pregel_pull', 'assistant'],\n",
       "   'error': None,\n",
       "   'interrupts': [],\n",
       "   'checkpoint': None,\n",
       "   'state': None,\n",
       "   'result': None}],\n",
       " 'metadata': {'graph_id': 'agent',\n",
       "  'thread_id': '6d238a34-43e0-4c6d-9f7e-1a14d82e1857',\n",
       "  'checkpoint_id': '1f03a51e-fd61-6b66-8000-dde82f7b4d65',\n",
       "  'checkpoint_ns': '',\n",
       "  'user-agent': 'langgraph-sdk-py/0.1.70',\n",
       "  'x-request-id': '595d3152-7cde-499c-b756-318dc1e6df30',\n",
       "  'langgraph_auth_user': None,\n",
       "  'langgraph_auth_user_id': '',\n",
       "  'langgraph_auth_permissions': [],\n",
       "  'langgraph_request_id': '595d3152-7cde-499c-b756-318dc1e6df30',\n",
       "  'assistant_id': 'fe096781-5601-53d2-b2f6-0d3403f7e9ca',\n",
       "  'user_id': '',\n",
       "  'created_by': 'system',\n",
       "  'run_attempt': 1,\n",
       "  'langgraph_version': '0.4.7',\n",
       "  'langgraph_plan': 'developer',\n",
       "  'langgraph_host': 'self-hosted',\n",
       "  'langgraph_api_url': 'http://127.0.0.1:2024',\n",
       "  'run_id': '1f03a51e-f7f9-6589-914f-c8057a6b5016',\n",
       "  'source': 'update',\n",
       "  'writes': {'__start__': {'messages': {'content': 'Multiply 3 and 4',\n",
       "     'additional_kwargs': {},\n",
       "     'response_metadata': {},\n",
       "     'type': 'human',\n",
       "     'name': None,\n",
       "     'id': '43405952-3393-4fe4-b98c-b6668ab9c87f',\n",
       "     'example': False}}},\n",
       "  'step': 1,\n",
       "  'parents': {}},\n",
       " 'created_at': '2025-05-26T17:00:14.190516+00:00',\n",
       " 'checkpoint': {'checkpoint_id': '1f03a52e-462f-650e-8001-a02ce94de455',\n",
       "  'thread_id': '6d238a34-43e0-4c6d-9f7e-1a14d82e1857',\n",
       "  'checkpoint_ns': ''},\n",
       " 'parent_checkpoint': {'checkpoint_id': '1f03a51e-fd61-6b66-8000-dde82f7b4d65',\n",
       "  'thread_id': '6d238a34-43e0-4c6d-9f7e-1a14d82e1857',\n",
       "  'checkpoint_ns': ''},\n",
       " 'checkpoint_id': '1f03a52e-462f-650e-8001-a02ce94de455',\n",
       " 'parent_checkpoint_id': '1f03a51e-fd61-6b66-8000-dde82f7b4d65'}"
      ]
     },
     "execution_count": 112,
     "metadata": {},
     "output_type": "execute_result"
    }
   ],
   "source": [
    "states = await client.threads.get_history(thread['thread_id'])\n",
    "states[0]"
   ]
  },
  {
   "cell_type": "code",
   "execution_count": 115,
   "metadata": {},
   "outputs": [
    {
     "name": "stdout",
     "output_type": "stream",
     "text": [
      "--------------------Assistant Node--------------------\n",
      "{'content': '', 'additional_kwargs': {'tool_calls': [{'id': 'call_751kOfXPdhc4l1PihF0yTgc7', 'function': {'arguments': '{\"a\":3,\"b\":4}', 'name': 'multiply'}, 'type': 'function'}], 'refusal': None}, 'response_metadata': {'token_usage': {'completion_tokens': 17, 'prompt_tokens': 134, 'total_tokens': 151, 'completion_tokens_details': {'accepted_prediction_tokens': 0, 'audio_tokens': 0, 'reasoning_tokens': 0, 'rejected_prediction_tokens': 0}, 'prompt_tokens_details': {'audio_tokens': 0, 'cached_tokens': 0}}, 'model_name': 'gpt-4o-2024-08-06', 'system_fingerprint': 'fp_07871e2ad8', 'id': 'chatcmpl-BbVUGcavZcOSJi6WzRm2Z2oiVoXPF', 'service_tier': 'default', 'finish_reason': 'tool_calls', 'logprobs': None}, 'type': 'ai', 'name': None, 'id': 'run--a4e0beba-bf39-4785-ac6f-208b8f51aa26-0', 'example': False, 'tool_calls': [{'name': 'multiply', 'args': {'a': 3, 'b': 4}, 'id': 'call_751kOfXPdhc4l1PihF0yTgc7', 'type': 'tool_call'}], 'invalid_tool_calls': [], 'usage_metadata': {'input_tokens': 134, 'output_tokens': 17, 'total_tokens': 151, 'input_token_details': {'audio': 0, 'cache_read': 0}, 'output_token_details': {'audio': 0, 'reasoning': 0}}}\n",
      "--------------------Tools Node--------------------\n",
      "{'content': '12', 'additional_kwargs': {}, 'response_metadata': {}, 'type': 'tool', 'name': 'multiply', 'id': 'f2d4424a-ca18-4e6c-9d26-64510ac877a7', 'tool_call_id': 'call_751kOfXPdhc4l1PihF0yTgc7', 'artifact': None, 'status': 'success'}\n",
      "--------------------Assistant Node--------------------\n",
      "{'content': 'The result of multiplying 3 and 4 is 12.', 'additional_kwargs': {'refusal': None}, 'response_metadata': {'token_usage': {'completion_tokens': 14, 'prompt_tokens': 159, 'total_tokens': 173, 'completion_tokens_details': {'accepted_prediction_tokens': 0, 'audio_tokens': 0, 'reasoning_tokens': 0, 'rejected_prediction_tokens': 0}, 'prompt_tokens_details': {'audio_tokens': 0, 'cached_tokens': 0}}, 'model_name': 'gpt-4o-2024-08-06', 'system_fingerprint': 'fp_07871e2ad8', 'id': 'chatcmpl-BbVUHfEkhYfM4EIllIewuGU9AiIas', 'service_tier': 'default', 'finish_reason': 'stop', 'logprobs': None}, 'type': 'ai', 'name': None, 'id': 'run--6a0e3cc9-ff2c-47a4-ae36-e525fc673ccb-0', 'example': False, 'tool_calls': [], 'invalid_tool_calls': [], 'usage_metadata': {'input_tokens': 159, 'output_tokens': 14, 'total_tokens': 173, 'input_token_details': {'audio': 0, 'cache_read': 0}, 'output_token_details': {'audio': 0, 'reasoning': 0}}}\n"
     ]
    }
   ],
   "source": [
    "async for chunk in client.runs.stream(thread_id=thread['thread_id'], assistant_id=\"agent\", input=fork_input, checkpoint_id=to_fork['checkpoint_id'], stream_mode=\"updates\"):\n",
    "    if chunk.data:\n",
    "        assisant_node = chunk.data.get('assistant', {}).get('messages', [])\n",
    "        tool_node = chunk.data.get('tools', {}).get('messages', [])\n",
    "        if assisant_node:\n",
    "            print(\"-\" * 20+\"Assistant Node\"+\"-\" * 20)\n",
    "            print(assisant_node[-1])\n",
    "        elif tool_node:\n",
    "            print(\"-\" * 20+\"Tools Node\"+\"-\" * 20)\n",
    "            print(tool_node[-1])"
   ]
  },
  {
   "cell_type": "code",
   "execution_count": null,
   "metadata": {},
   "outputs": [],
   "source": []
  }
 ],
 "metadata": {
  "kernelspec": {
   "display_name": "lc-academy-env",
   "language": "python",
   "name": "python3"
  },
  "language_info": {
   "codemirror_mode": {
    "name": "ipython",
    "version": 3
   },
   "file_extension": ".py",
   "mimetype": "text/x-python",
   "name": "python",
   "nbconvert_exporter": "python",
   "pygments_lexer": "ipython3",
   "version": "3.11.8"
  }
 },
 "nbformat": 4,
 "nbformat_minor": 2
}
